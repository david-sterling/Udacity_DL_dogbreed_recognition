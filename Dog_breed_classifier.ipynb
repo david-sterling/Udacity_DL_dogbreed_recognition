{
  "nbformat": 4,
  "nbformat_minor": 0,
  "metadata": {
    "colab": {
      "name": "Dog breed classifier.ipynb",
      "version": "0.3.2",
      "provenance": [],
      "include_colab_link": true
    },
    "kernelspec": {
      "name": "python3",
      "display_name": "Python 3"
    },
    "accelerator": "TPU"
  },
  "cells": [
    {
      "cell_type": "markdown",
      "metadata": {
        "id": "view-in-github",
        "colab_type": "text"
      },
      "source": [
        "<a href=\"https://colab.research.google.com/github/david-sterling/Udacity_DL_dogbreed_recognition/blob/master/Dog_breed_classifier.ipynb\" target=\"_parent\"><img src=\"https://colab.research.google.com/assets/colab-badge.svg\" alt=\"Open In Colab\"/></a>"
      ]
    },
    {
      "metadata": {
        "id": "14OnZJn3WXJS",
        "colab_type": "text"
      },
      "cell_type": "markdown",
      "source": [
        "# Artificial Intelligence Nanodegree\n",
        "\n",
        "## Convolutional Neural Networks\n",
        "\n",
        "## Project: Write an Algorithm for a Dog Identification App \n",
        "\n",
        "---\n",
        "\n",
        "In this notebook, some template code has already been provided for you, and you will need to implement additional functionality to successfully complete this project. You will not need to modify the included code beyond what is requested. Sections that begin with **'(IMPLEMENTATION)'** in the header indicate that the following block of code will require additional functionality which you must provide. Instructions will be provided for each section, and the specifics of the implementation are marked in the code block with a 'TODO' statement. Please be sure to read the instructions carefully! \n",
        "\n",
        "> **Note**: Once you have completed all of the code implementations, you need to finalize your work by exporting the iPython Notebook as an HTML document. Before exporting the notebook to html, all of the code cells need to have been run so that reviewers can see the final implementation and output. You can then export the notebook by using the menu above and navigating to  \\n\",\n",
        "    \"**File -> Download as -> HTML (.html)**. Include the finished document along with this notebook as your submission.\n",
        "\n",
        "In addition to implementing code, there will be questions that you must answer which relate to the project and your implementation. Each section where you will answer a question is preceded by a **'Question X'** header. Carefully read each question and provide thorough answers in the following text boxes that begin with **'Answer:'**. Your project submission will be evaluated based on your answers to each of the questions and the implementation you provide.\n",
        "\n",
        ">**Note:** Code and Markdown cells can be executed using the **Shift + Enter** keyboard shortcut.  Markdown cells can be edited by double-clicking the cell to enter edit mode.\n",
        "\n",
        "The rubric contains _optional_ \"Stand Out Suggestions\" for enhancing the project beyond the minimum requirements. If you decide to pursue the \"Stand Out Suggestions\", you should include the code in this IPython notebook.\n",
        "\n",
        "\n",
        "\n",
        "---\n",
        "### Why We're Here \n",
        "\n",
        "In this notebook, you will make the first steps towards developing an algorithm that could be used as part of a mobile or web app.  At the end of this project, your code will accept any user-supplied image as input.  If a dog is detected in the image, it will provide an estimate of the dog's breed.  If a human is detected, it will provide an estimate of the dog breed that is most resembling.  The image below displays potential sample output of your finished project (... but we expect that each student's algorithm will behave differently!). \n",
        "\n",
        "![Sample Dog Output](https://github.com/udacity/dog-project/blob/master/images/sample_dog_output.png?raw=1)\n",
        "\n",
        "In this real-world setting, you will need to piece together a series of models to perform different tasks; for instance, the algorithm that detects humans in an image will be different from the CNN that infers dog breed.  There are many points of possible failure, and no perfect algorithm exists.  Your imperfect solution will nonetheless create a fun user experience!\n",
        "\n",
        "### The Road Ahead\n",
        "\n",
        "We break the notebook into separate steps.  Feel free to use the links below to navigate the notebook.\n",
        "\n",
        "* [Step 0](#step0): Import Datasets\n",
        "* [Step 1](#step1): Detect Humans\n",
        "* [Step 2](#step2): Detect Dogs\n",
        "* [Step 3](#step3): Create a CNN to Classify Dog Breeds (from Scratch)\n",
        "* [Step 4](#step4): Use a CNN to Classify Dog Breeds (using Transfer Learning)\n",
        "* [Step 5](#step5): Create a CNN to Classify Dog Breeds (using Transfer Learning)\n",
        "* [Step 6](#step6): Write your Algorithm\n",
        "* [Step 7](#step7): Test Your Algorithm\n",
        "\n",
        "---\n",
        "<a id='step0'></a>\n",
        "## Step 0: Import Datasets\n",
        "\n",
        "### Import Dog Dataset\n",
        "\n",
        "In the code cell below, we import a dataset of dog images.  We populate a few variables through the use of the `load_files` function from the scikit-learn library:\n",
        "- `train_files`, `valid_files`, `test_files` - numpy arrays containing file paths to images\n",
        "- `train_targets`, `valid_targets`, `test_targets` - numpy arrays containing onehot-encoded classification labels \n",
        "- `dog_names` - list of string-valued dog breed names for translating labels"
      ]
    },
    {
      "metadata": {
        "id": "Y1Um0bvPWciC",
        "colab_type": "code",
        "outputId": "fc5a9ea2-0bed-4627-8fff-4340ed941159",
        "colab": {
          "base_uri": "https://localhost:8080/",
          "height": 202
        }
      },
      "cell_type": "code",
      "source": [
        "#Start downloading requirements\n",
        "\n",
        "!git clone https://github.com/udacity/dog-project.git\n",
        "!cd dog-project\n",
        "!wget -nc https://s3-us-west-1.amazonaws.com/udacity-aind/dog-project/dogImages.zip\n",
        "!wget -nc https://s3-us-west-1.amazonaws.com/udacity-aind/dog-project/lfw.zip\n",
        "!wget -nc https://s3-us-west-1.amazonaws.com/udacity-aind/dog-project/DogVGG16Data.npz\n",
        "!unzip -n -q dogImages.zip \n",
        "!unzip -n -q lfw.zip  \n",
        "!unzip -n -q DogVGG16Data.npz \n",
        "!ls\n",
        "\n",
        "#If you are a trigger happy programmer like me:\n",
        "#Remember to use -nc to save those nice Google guys some bandwidth at wget, only download files if not present\n",
        "#Remember to use -n at unzip to extract files only if missing, save some CPU to Google and Watts for the planet!"
      ],
      "execution_count": 5,
      "outputs": [
        {
          "output_type": "stream",
          "text": [
            "fatal: destination path 'dog-project' already exists and is not an empty directory.\n",
            "File ‘dogImages.zip’ already there; not retrieving.\n",
            "\n",
            "File ‘lfw.zip’ already there; not retrieving.\n",
            "\n",
            "File ‘DogVGG16Data.npz’ already there; not retrieving.\n",
            "\n",
            "dogImages\t  filenames_test.npy   lfw.zip\t    test_OH.npy   valid_OH.npy\n",
            "dogImages.zip\t  filenames_train.npy  __MACOSX     train.npy\n",
            "dog-project\t  filenames_valid.npy  sample_data  train_OH.npy\n",
            "DogVGG16Data.npz  lfw\t\t       test.npy     valid.npy\n"
          ],
          "name": "stdout"
        }
      ]
    },
    {
      "metadata": {
        "id": "ddZeR6XKWXJW",
        "colab_type": "code",
        "outputId": "7b1a03ad-ef0e-4b3e-ac28-301a6afd7bc5",
        "colab": {
          "base_uri": "https://localhost:8080/",
          "height": 134
        }
      },
      "cell_type": "code",
      "source": [
        "from sklearn.datasets import load_files       \n",
        "from keras.utils import np_utils\n",
        "import numpy as np\n",
        "from glob import glob\n",
        "\n",
        "# define function to load train, test, and validation datasets\n",
        "def load_dataset(path):\n",
        "    data = load_files(path)\n",
        "    dog_files = np.array(data['filenames'])\n",
        "    dog_targets = np_utils.to_categorical(np.array(data['target']), 133)\n",
        "    return dog_files, dog_targets\n",
        "\n",
        "# load train, test, and validation datasets\n",
        "train_files, train_targets = load_dataset('dogImages/train')\n",
        "valid_files, valid_targets = load_dataset('dogImages/valid')\n",
        "test_files, test_targets = load_dataset('dogImages/test')\n",
        "\n",
        "# load list of dog names\n",
        "dog_names = [item[20:-1] for item in sorted(glob(\"dogImages/train/*/\"))]\n",
        "\n",
        "# print statistics about the dataset\n",
        "print('There are %d total dog categories.' % len(dog_names))\n",
        "print('There are %s total dog images.\\n' % len(np.hstack([train_files, valid_files, test_files])))\n",
        "print('There are %d training dog images.' % len(train_files))\n",
        "print('There are %d validation dog images.' % len(valid_files))\n",
        "print('There are %d test dog images.'% len(test_files))\n",
        "print(\"Version of Tensorflow: \")\n",
        "print(tf.VERSION)"
      ],
      "execution_count": 7,
      "outputs": [
        {
          "output_type": "stream",
          "text": [
            "Using TensorFlow backend.\n"
          ],
          "name": "stderr"
        },
        {
          "output_type": "stream",
          "text": [
            "There are 133 total dog categories.\n",
            "There are 8351 total dog images.\n",
            "\n",
            "There are 6680 training dog images.\n",
            "There are 835 validation dog images.\n",
            "There are 836 test dog images.\n"
          ],
          "name": "stdout"
        }
      ]
    },
    {
      "metadata": {
        "id": "w_hEQuO6WXJe",
        "colab_type": "text"
      },
      "cell_type": "markdown",
      "source": [
        "### Import Human Dataset\n",
        "\n",
        "In the code cell below, we import a dataset of human images, where the file paths are stored in the numpy array `human_files`."
      ]
    },
    {
      "metadata": {
        "id": "6Q4yW-0pWXJg",
        "colab_type": "code",
        "outputId": "7664054e-f7c7-4405-b300-69305d6e654e",
        "colab": {
          "base_uri": "https://localhost:8080/",
          "height": 34
        }
      },
      "cell_type": "code",
      "source": [
        "import random\n",
        "random.seed(8675309)\n",
        "\n",
        "# load filenames in shuffled human dataset\n",
        "human_files = np.array(glob(\"lfw/*/*\"))\n",
        "random.shuffle(human_files)\n",
        "\n",
        "# print statistics about the dataset\n",
        "print('There are %d total human images.' % len(human_files))"
      ],
      "execution_count": 8,
      "outputs": [
        {
          "output_type": "stream",
          "text": [
            "There are 13233 total human images.\n"
          ],
          "name": "stdout"
        }
      ]
    },
    {
      "metadata": {
        "id": "qanBerClWXJk",
        "colab_type": "text"
      },
      "cell_type": "markdown",
      "source": [
        "---\n",
        "<a id='step1'></a>\n",
        "## Step 1: Detect Humans\n",
        "\n",
        "We use OpenCV's implementation of [Haar feature-based cascade classifiers](http://docs.opencv.org/trunk/d7/d8b/tutorial_py_face_detection.html) to detect human faces in images.  OpenCV provides many pre-trained face detectors, stored as XML files on [github](https://github.com/opencv/opencv/tree/master/data/haarcascades).  We have downloaded one of these detectors and stored it in the `haarcascades` directory.\n",
        "\n",
        "In the next code cell, we demonstrate how to use this detector to find human faces in a sample image."
      ]
    },
    {
      "metadata": {
        "id": "QYKHc7GTWXJk",
        "colab_type": "code",
        "outputId": "d176bd53-bd85-413a-dcc7-14c510213560",
        "colab": {
          "base_uri": "https://localhost:8080/",
          "height": 286
        }
      },
      "cell_type": "code",
      "source": [
        "import cv2                \n",
        "import matplotlib.pyplot as plt                        \n",
        "%matplotlib inline                               \n",
        "\n",
        "# extract pre-trained face detector\n",
        "face_cascade = cv2.CascadeClassifier('./dog-project/haarcascades/haarcascade_frontalface_alt.xml')\n",
        "\n",
        "# load color (BGR) image\n",
        "img = cv2.imread(human_files[800])\n",
        "# convert BGR image to grayscale\n",
        "gray = cv2.cvtColor(img, cv2.COLOR_BGR2GRAY)\n",
        "\n",
        "# find faces in image\n",
        "faces = face_cascade.detectMultiScale(gray)\n",
        "\n",
        "# print number of faces detected in the image\n",
        "print('Number of faces detected:', len(faces))\n",
        "\n",
        "# get bounding box for each detected face\n",
        "for (x,y,w,h) in faces:\n",
        "    # add bounding box to color image\n",
        "    cv2.rectangle(img,(x,y),(x+w,y+h),(255,0,0),2)\n",
        "    \n",
        "# convert BGR image to RGB for plotting\n",
        "cv_rgb = cv2.cvtColor(img, cv2.COLOR_BGR2RGB)\n",
        "\n",
        "# display the image, along with bounding box\n",
        "plt.imshow(cv_rgb)\n",
        "plt.show()"
      ],
      "execution_count": 9,
      "outputs": [
        {
          "output_type": "stream",
          "text": [
            "Number of faces detected: 1\n"
          ],
          "name": "stdout"
        },
        {
          "output_type": "display_data",
          "data": {
            "image/png": "[encoded data removed]",
            "text/plain": [
              "<matplotlib.figure.Figure at 0x7fea3afca518>"
            ]
          },
          "metadata": {
            "tags": []
          }
        }
      ]
    },
    {
      "metadata": {
        "id": "LNOrTbwQWXJn",
        "colab_type": "text"
      },
      "cell_type": "markdown",
      "source": [
        "Before using any of the face detectors, it is standard procedure to convert the images to grayscale.  The `detectMultiScale` function executes the classifier stored in `face_cascade` and takes the grayscale image as a parameter.  \n",
        "\n",
        "In the above code, `faces` is a numpy array of detected faces, where each row corresponds to a detected face.  Each detected face is a 1D array with four entries that specifies the bounding box of the detected face.  The first two entries in the array (extracted in the above code as `x` and `y`) specify the horizontal and vertical positions of the top left corner of the bounding box.  The last two entries in the array (extracted here as `w` and `h`) specify the width and height of the box.\n",
        "\n",
        "### Write a Human Face Detector\n",
        "\n",
        "We can use this procedure to write a function that returns `True` if a human face is detected in an image and `False` otherwise.  This function, aptly named `face_detector`, takes a string-valued file path to an image as input and appears in the code block below."
      ]
    },
    {
      "metadata": {
        "id": "-FQhGT8kWXJp",
        "colab_type": "code",
        "colab": {}
      },
      "cell_type": "code",
      "source": [
        "# returns \"True\" if face is detected in image stored at img_path\n",
        "def face_detector(img_path):\n",
        "    img = cv2.imread(img_path)\n",
        "    gray = cv2.cvtColor(img, cv2.COLOR_BGR2GRAY)\n",
        "    faces = face_cascade.detectMultiScale(gray)\n",
        "    return len(faces) > 0"
      ],
      "execution_count": 0,
      "outputs": []
    },
    {
      "metadata": {
        "id": "JI7KeV4uWXJs",
        "colab_type": "text"
      },
      "cell_type": "markdown",
      "source": [
        "### (IMPLEMENTATION) Assess the Human Face Detector\n",
        "\n",
        "__Question 1:__ Use the code cell below to test the performance of the `face_detector` function.  \n",
        "- What percentage of the first 100 images in `human_files` have a detected human face?  \n",
        "- What percentage of the first 100 images in `dog_files` have a detected human face? \n",
        "\n",
        "Ideally, we would like 100% of human images with a detected face and 0% of dog images with a detected face.  You will see that our algorithm falls short of this goal, but still gives acceptable performance.  We extract the file paths for the first 100 images from each of the datasets and store them in the numpy arrays `human_files_short` and `dog_files_short`.\n",
        "\n",
        "__Answer:__ "
      ]
    },
    {
      "metadata": {
        "id": "0q0JrhtuWXJt",
        "colab_type": "code",
        "outputId": "c28e36f0-fdc8-4825-d515-90f1be27670f",
        "colab": {
          "base_uri": "https://localhost:8080/",
          "height": 67
        }
      },
      "cell_type": "code",
      "source": [
        "import time\n",
        "\n",
        "human_files_short = human_files[:100]\n",
        "dog_files_short = train_files[:100]\n",
        "# Do NOT modify the code above this line.\n",
        "\n",
        "## TODO: Test the performance of the face_detector algorithm \n",
        "## on the images in human_files_short and dog_files_short.\n",
        "\n",
        "#start = time.time()\n",
        "#humans_detected =[face_detector(face_file) for face_file in human_files_short]\n",
        "#dogs_detected = [face_detector(dog_file) for dog_file in dog_files_short]\n",
        "#end = time.time()\n",
        "#print(\"Execution time: \" + repr(end - start)+\" seconds\")\n",
        "\n",
        "faces_vector = np.vectorize(face_detector)\n",
        "\n",
        "start = time.time()\n",
        "humans_detected = faces_vector(human_files_short)\n",
        "dogs_detected = faces_vector(dog_files_short)\n",
        "end = time.time()\n",
        "print(\"Execution time: \" + repr(end - start)+\" seconds\")\n",
        "\n",
        "#Humans and dogs detected is a list whith true/false values with the same length as data\n",
        "#I use sum function to count\n",
        "\n",
        "humans_percentage = sum(humans_detected)/len(humans_detected) *100\n",
        "dogs_percentage = sum(dogs_detected) / len(dogs_detected) *100\n",
        "\n",
        "print(\"Detected humans on humans pictures percentage {:.3f} % \" .format(humans_percentage))\n",
        "print(\"Detected humans on dogs pictures percentage {:.3f} % \" .format(dogs_percentage))\n"
      ],
      "execution_count": 92,
      "outputs": [
        {
          "output_type": "stream",
          "text": [
            "Execution time: 34.876357316970825 seconds\n",
            "Detected humans on humans pictures percentage 99.000 % \n",
            "Detected humans on dogs pictures percentage 12.000 % \n"
          ],
          "name": "stdout"
        }
      ]
    },
    {
      "metadata": {
        "id": "fsmIofwUvfCG",
        "colab_type": "text"
      },
      "cell_type": "markdown",
      "source": [
        "I am using numpy vectorizing function to try to speed up the face detection. However, runtime time happens to be the same with and without numPy vector. Seems that is optimized anyway.\n",
        "\n",
        "See https://www.oreilly.com/library/view/python-for-data/9781449323592/ch04.html\n",
        "\n",
        "I am using it as a reference."
      ]
    },
    {
      "metadata": {
        "id": "iRxeEptJWXJw",
        "colab_type": "text"
      },
      "cell_type": "markdown",
      "source": [
        "__Question 2:__ This algorithmic choice necessitates that we communicate to the user that we accept human images only when they provide a clear view of a face (otherwise, we risk having unneccessarily frustrated users!). In your opinion, is this a reasonable expectation to pose on the user? If not, can you think of a way to detect humans in images that does not necessitate an image with a clearly presented face?\n",
        "\n",
        "__Answer:__\n",
        "\n",
        "We suggest the face detector from OpenCV as a potential way to detect human images in your algorithm, but you are free to explore other approaches, especially approaches that make use of deep learning :).  Please use the code cell below to design and test your own face detection algorithm.  If you decide to pursue this _optional_ task, report performance on each of the datasets."
      ]
    },
    {
      "metadata": {
        "id": "9WkV1aMbWXJx",
        "colab_type": "code",
        "colab": {}
      },
      "cell_type": "code",
      "source": [
        "## (Optional) TODO: Report the performance of another  \n",
        "## face detection algorithm on the LFW dataset\n",
        "### Feel free to use as many code cells as needed."
      ],
      "execution_count": 0,
      "outputs": []
    },
    {
      "metadata": {
        "id": "c5Z0NKRrWXJ2",
        "colab_type": "text"
      },
      "cell_type": "markdown",
      "source": [
        "---\n",
        "<a id='step2'></a>\n",
        "## Step 2: Detect Dogs\n",
        "\n",
        "In this section, we use a pre-trained [ResNet-50](http://ethereon.github.io/netscope/#/gist/db945b393d40bfa26006) model to detect dogs in images.  Our first line of code downloads the ResNet-50 model, along with weights that have been trained on [ImageNet](http://www.image-net.org/), a very large, very popular dataset used for image classification and other vision tasks.  ImageNet contains over 10 million URLs, each linking to an image containing an object from one of [1000 categories](https://gist.github.com/yrevar/942d3a0ac09ec9e5eb3a).  Given an image, this pre-trained ResNet-50 model returns a prediction (derived from the available categories in ImageNet) for the object that is contained in the image."
      ]
    },
    {
      "metadata": {
        "id": "qZn_MULPWXJ4",
        "colab_type": "code",
        "colab": {}
      },
      "cell_type": "code",
      "source": [
        "from tensorflow.keras.applications.resnet50 import ResNet50\n",
        "\n",
        "# define ResNet50 model\n",
        "ResNet50_model = ResNet50(weights='imagenet')"
      ],
      "execution_count": 0,
      "outputs": []
    },
    {
      "metadata": {
        "id": "JebgPNVeWXJ7",
        "colab_type": "text"
      },
      "cell_type": "markdown",
      "source": [
        "### Pre-process the Data\n",
        "\n",
        "When using TensorFlow as backend, Keras CNNs require a 4D array (which we'll also refer to as a 4D tensor) as input, with shape\n",
        "\n",
        "$$\n",
        "(\\text{nb_samples}, \\text{rows}, \\text{columns}, \\text{channels}),\n",
        "$$\n",
        "\n",
        "where `nb_samples` corresponds to the total number of images (or samples), and `rows`, `columns`, and `channels` correspond to the number of rows, columns, and channels for each image, respectively.  \n",
        "\n",
        "The `path_to_tensor` function below takes a string-valued file path to a color image as input and returns a 4D tensor suitable for supplying to a Keras CNN.  The function first loads the image and resizes it to a square image that is $224 \\times 224$ pixels.  Next, the image is converted to an array, which is then resized to a 4D tensor.  In this case, since we are working with color images, each image has three channels.  Likewise, since we are processing a single image (or sample), the returned tensor will always have shape\n",
        "\n",
        "$$\n",
        "(1, 224, 224, 3).\n",
        "$$\n",
        "\n",
        "The `paths_to_tensor` function takes a numpy array of string-valued image paths as input and returns a 4D tensor with shape \n",
        "\n",
        "$$\n",
        "(\\text{nb_samples}, 224, 224, 3).\n",
        "$$\n",
        "\n",
        "Here, `nb_samples` is the number of samples, or number of images, in the supplied array of image paths.  It is best to think of `nb_samples` as the number of 3D tensors (where each 3D tensor corresponds to a different image) in your dataset!"
      ]
    },
    {
      "metadata": {
        "id": "6pIQ27WDWXJ8",
        "colab_type": "code",
        "colab": {}
      },
      "cell_type": "code",
      "source": [
        "from tensorflow.keras.preprocessing import image                  \n",
        "from tqdm import tqdm\n",
        "\n",
        "def path_to_tensor(img_path):\n",
        "    # loads RGB image as PIL.Image.Image type\n",
        "    img = image.load_img(img_path, target_size=(224, 224))\n",
        "    # convert PIL.Image.Image type to 3D tensor with shape (224, 224, 3)\n",
        "    x = image.img_to_array(img)\n",
        "    # convert 3D tensor to 4D tensor with shape (1, 224, 224, 3) and return 4D tensor\n",
        "    return np.expand_dims(x, axis=0)\n",
        "\n",
        "def paths_to_tensor(img_paths):\n",
        "    list_of_tensors = [path_to_tensor(img_path) for img_path in tqdm(img_paths)]\n",
        "    return np.vstack(list_of_tensors)"
      ],
      "execution_count": 0,
      "outputs": []
    },
    {
      "metadata": {
        "id": "k6PqnIsEWXJ-",
        "colab_type": "text"
      },
      "cell_type": "markdown",
      "source": [
        "### Making Predictions with ResNet-50\n",
        "\n",
        "Getting the 4D tensor ready for ResNet-50, and for any other pre-trained model in Keras, requires some additional processing.  First, the RGB image is converted to BGR by reordering the channels.  All pre-trained models have the additional normalization step that the mean pixel (expressed in RGB as $[103.939, 116.779, 123.68]$ and calculated from all pixels in all images in ImageNet) must be subtracted from every pixel in each image.  This is implemented in the imported function `preprocess_input`.  If you're curious, you can check the code for `preprocess_input` [here](https://github.com/fchollet/keras/blob/master/keras/applications/imagenet_utils.py).\n",
        "\n",
        "Now that we have a way to format our image for supplying to ResNet-50, we are now ready to use the model to extract the predictions.  This is accomplished with the `predict` method, which returns an array whose $i$-th entry is the model's predicted probability that the image belongs to the $i$-th ImageNet category.  This is implemented in the `ResNet50_predict_labels` function below.\n",
        "\n",
        "By taking the argmax of the predicted probability vector, we obtain an integer corresponding to the model's predicted object class, which we can identify with an object category through the use of this [dictionary](https://gist.github.com/yrevar/942d3a0ac09ec9e5eb3a). "
      ]
    },
    {
      "metadata": {
        "id": "j96XIAITWXJ_",
        "colab_type": "code",
        "colab": {}
      },
      "cell_type": "code",
      "source": [
        "from keras.applications.resnet50 import preprocess_input, decode_predictions\n",
        "\n",
        "def ResNet50_predict_labels(img_path):\n",
        "    # returns prediction vector for image located at img_path\n",
        "    img = preprocess_input(path_to_tensor(img_path))\n",
        "    return np.argmax(ResNet50_model.predict(img))"
      ],
      "execution_count": 0,
      "outputs": []
    },
    {
      "metadata": {
        "id": "JsXhIk84WXKB",
        "colab_type": "text"
      },
      "cell_type": "markdown",
      "source": [
        "### Write a Dog Detector\n",
        "\n",
        "While looking at the [dictionary](https://gist.github.com/yrevar/942d3a0ac09ec9e5eb3a), you will notice that the categories corresponding to dogs appear in an uninterrupted sequence and correspond to dictionary keys 151-268, inclusive, to include all categories from `'Chihuahua'` to `'Mexican hairless'`.  Thus, in order to check to see if an image is predicted to contain a dog by the pre-trained ResNet-50 model, we need only check if the `ResNet50_predict_labels` function above returns a value between 151 and 268 (inclusive).\n",
        "\n",
        "We use these ideas to complete the `dog_detector` function below, which returns `True` if a dog is detected in an image (and `False` if not)."
      ]
    },
    {
      "metadata": {
        "id": "_vPKliOGWXKC",
        "colab_type": "code",
        "colab": {}
      },
      "cell_type": "code",
      "source": [
        "### returns \"True\" if a dog is detected in the image stored at img_path\n",
        "def dog_detector(img_path):\n",
        "    prediction = ResNet50_predict_labels(img_path)\n",
        "    return ((prediction <= 268) & (prediction >= 151)) "
      ],
      "execution_count": 0,
      "outputs": []
    },
    {
      "metadata": {
        "id": "Q0r9fQUeWXKF",
        "colab_type": "text"
      },
      "cell_type": "markdown",
      "source": [
        "### (IMPLEMENTATION) Assess the Dog Detector\n",
        "\n",
        "__Question 3:__ Use the code cell below to test the performance of your `dog_detector` function.  \n",
        "- What percentage of the images in `human_files_short` have a detected dog?  \n",
        "- What percentage of the images in `dog_files_short` have a detected dog?\n",
        "\n",
        "__Answer:__ "
      ]
    },
    {
      "metadata": {
        "id": "zrkyiUReWXKF",
        "colab_type": "code",
        "colab": {
          "base_uri": "https://localhost:8080/",
          "height": 1828
        },
        "outputId": "f14b8fec-94f1-49f2-d4a8-b1c0d902d513"
      },
      "cell_type": "code",
      "source": [
        "### TODO: Test the performance of the dog_detector function\n",
        "### on the images in human_files_short and dog_files_short.\n",
        "\n",
        "dogDetectorVector = np.vectorize(dog_detector)\n",
        "tf.keras.backend.clear_session()\n",
        "\n",
        "start = time.time()\n",
        "dogsOnHumans = dogDetectorVector(human_files_short)\n",
        "dogsOnDogs = dogDetectorVector(dog_files_short)\n",
        "end = time.time()\n",
        "print(\"Execution time: \" + repr(end - start)+\" seconds\")\n",
        "\n",
        "dogsOnHumansPercentage = sum(dogsOnHumans)/len(dogsOnHumans) *100\n",
        "dogsOnDogsPercentage = sum(dogsOnDogs) / len(dogsOnDogs) *100\n",
        "\n",
        "print(\"Detected humans on humans pictures percentage {:.3f} % \" .format(dogsOnHumansPercentage))\n",
        "print(\"Detected humans on dogs pictures percentage {:.3f} % \" .format(dogsOnDogsPercentage))\n",
        "\n"
      ],
      "execution_count": 113,
      "outputs": [
        {
          "output_type": "error",
          "ename": "ValueError",
          "evalue": "ignored",
          "traceback": [
            "\u001b[0;31m---------------------------------------------------------------------------\u001b[0m",
            "\u001b[0;31mValueError\u001b[0m                                Traceback (most recent call last)",
            "\u001b[0;32m<ipython-input-113-f59f6f9f7089>\u001b[0m in \u001b[0;36m<module>\u001b[0;34m()\u001b[0m\n\u001b[1;32m      4\u001b[0m \u001b[0;34m\u001b[0m\u001b[0m\n\u001b[1;32m      5\u001b[0m \u001b[0mstart\u001b[0m \u001b[0;34m=\u001b[0m \u001b[0mtime\u001b[0m\u001b[0;34m.\u001b[0m\u001b[0mtime\u001b[0m\u001b[0;34m(\u001b[0m\u001b[0;34m)\u001b[0m\u001b[0;34m\u001b[0m\u001b[0;34m\u001b[0m\u001b[0m\n\u001b[0;32m----> 6\u001b[0;31m \u001b[0mdogsOnHumans\u001b[0m \u001b[0;34m=\u001b[0m \u001b[0mdogDetectorVector\u001b[0m\u001b[0;34m(\u001b[0m\u001b[0mhuman_files_short\u001b[0m\u001b[0;34m)\u001b[0m\u001b[0;34m\u001b[0m\u001b[0;34m\u001b[0m\u001b[0m\n\u001b[0m\u001b[1;32m      7\u001b[0m \u001b[0mdogsOnDogs\u001b[0m \u001b[0;34m=\u001b[0m \u001b[0mdogDetectorVector\u001b[0m\u001b[0;34m(\u001b[0m\u001b[0mdog_files_short\u001b[0m\u001b[0;34m)\u001b[0m\u001b[0;34m\u001b[0m\u001b[0;34m\u001b[0m\u001b[0m\n\u001b[1;32m      8\u001b[0m \u001b[0mend\u001b[0m \u001b[0;34m=\u001b[0m \u001b[0mtime\u001b[0m\u001b[0;34m.\u001b[0m\u001b[0mtime\u001b[0m\u001b[0;34m(\u001b[0m\u001b[0;34m)\u001b[0m\u001b[0;34m\u001b[0m\u001b[0;34m\u001b[0m\u001b[0m\n",
            "\u001b[0;32m/usr/local/lib/python3.6/dist-packages/numpy/lib/function_base.py\u001b[0m in \u001b[0;36m__call__\u001b[0;34m(self, *args, **kwargs)\u001b[0m\n\u001b[1;32m   2753\u001b[0m             \u001b[0mvargs\u001b[0m\u001b[0;34m.\u001b[0m\u001b[0mextend\u001b[0m\u001b[0;34m(\u001b[0m\u001b[0;34m[\u001b[0m\u001b[0mkwargs\u001b[0m\u001b[0;34m[\u001b[0m\u001b[0m_n\u001b[0m\u001b[0;34m]\u001b[0m \u001b[0;32mfor\u001b[0m \u001b[0m_n\u001b[0m \u001b[0;32min\u001b[0m \u001b[0mnames\u001b[0m\u001b[0;34m]\u001b[0m\u001b[0;34m)\u001b[0m\u001b[0;34m\u001b[0m\u001b[0;34m\u001b[0m\u001b[0m\n\u001b[1;32m   2754\u001b[0m \u001b[0;34m\u001b[0m\u001b[0m\n\u001b[0;32m-> 2755\u001b[0;31m         \u001b[0;32mreturn\u001b[0m \u001b[0mself\u001b[0m\u001b[0;34m.\u001b[0m\u001b[0m_vectorize_call\u001b[0m\u001b[0;34m(\u001b[0m\u001b[0mfunc\u001b[0m\u001b[0;34m=\u001b[0m\u001b[0mfunc\u001b[0m\u001b[0;34m,\u001b[0m \u001b[0margs\u001b[0m\u001b[0;34m=\u001b[0m\u001b[0mvargs\u001b[0m\u001b[0;34m)\u001b[0m\u001b[0;34m\u001b[0m\u001b[0;34m\u001b[0m\u001b[0m\n\u001b[0m\u001b[1;32m   2756\u001b[0m \u001b[0;34m\u001b[0m\u001b[0m\n\u001b[1;32m   2757\u001b[0m     \u001b[0;32mdef\u001b[0m \u001b[0m_get_ufunc_and_otypes\u001b[0m\u001b[0;34m(\u001b[0m\u001b[0mself\u001b[0m\u001b[0;34m,\u001b[0m \u001b[0mfunc\u001b[0m\u001b[0;34m,\u001b[0m \u001b[0margs\u001b[0m\u001b[0;34m)\u001b[0m\u001b[0;34m:\u001b[0m\u001b[0;34m\u001b[0m\u001b[0;34m\u001b[0m\u001b[0m\n",
            "\u001b[0;32m/usr/local/lib/python3.6/dist-packages/numpy/lib/function_base.py\u001b[0m in \u001b[0;36m_vectorize_call\u001b[0;34m(self, func, args)\u001b[0m\n\u001b[1;32m   2823\u001b[0m             \u001b[0mres\u001b[0m \u001b[0;34m=\u001b[0m \u001b[0mfunc\u001b[0m\u001b[0;34m(\u001b[0m\u001b[0;34m)\u001b[0m\u001b[0;34m\u001b[0m\u001b[0;34m\u001b[0m\u001b[0m\n\u001b[1;32m   2824\u001b[0m         \u001b[0;32melse\u001b[0m\u001b[0;34m:\u001b[0m\u001b[0;34m\u001b[0m\u001b[0;34m\u001b[0m\u001b[0m\n\u001b[0;32m-> 2825\u001b[0;31m             \u001b[0mufunc\u001b[0m\u001b[0;34m,\u001b[0m \u001b[0motypes\u001b[0m \u001b[0;34m=\u001b[0m \u001b[0mself\u001b[0m\u001b[0;34m.\u001b[0m\u001b[0m_get_ufunc_and_otypes\u001b[0m\u001b[0;34m(\u001b[0m\u001b[0mfunc\u001b[0m\u001b[0;34m=\u001b[0m\u001b[0mfunc\u001b[0m\u001b[0;34m,\u001b[0m \u001b[0margs\u001b[0m\u001b[0;34m=\u001b[0m\u001b[0margs\u001b[0m\u001b[0;34m)\u001b[0m\u001b[0;34m\u001b[0m\u001b[0;34m\u001b[0m\u001b[0m\n\u001b[0m\u001b[1;32m   2826\u001b[0m \u001b[0;34m\u001b[0m\u001b[0m\n\u001b[1;32m   2827\u001b[0m             \u001b[0;31m# Convert args to object arrays first\u001b[0m\u001b[0;34m\u001b[0m\u001b[0;34m\u001b[0m\u001b[0;34m\u001b[0m\u001b[0m\n",
            "\u001b[0;32m/usr/local/lib/python3.6/dist-packages/numpy/lib/function_base.py\u001b[0m in \u001b[0;36m_get_ufunc_and_otypes\u001b[0;34m(self, func, args)\u001b[0m\n\u001b[1;32m   2783\u001b[0m \u001b[0;34m\u001b[0m\u001b[0m\n\u001b[1;32m   2784\u001b[0m             \u001b[0minputs\u001b[0m \u001b[0;34m=\u001b[0m \u001b[0;34m[\u001b[0m\u001b[0marg\u001b[0m\u001b[0;34m.\u001b[0m\u001b[0mflat\u001b[0m\u001b[0;34m[\u001b[0m\u001b[0;36m0\u001b[0m\u001b[0;34m]\u001b[0m \u001b[0;32mfor\u001b[0m \u001b[0marg\u001b[0m \u001b[0;32min\u001b[0m \u001b[0margs\u001b[0m\u001b[0;34m]\u001b[0m\u001b[0;34m\u001b[0m\u001b[0;34m\u001b[0m\u001b[0m\n\u001b[0;32m-> 2785\u001b[0;31m             \u001b[0moutputs\u001b[0m \u001b[0;34m=\u001b[0m \u001b[0mfunc\u001b[0m\u001b[0;34m(\u001b[0m\u001b[0;34m*\u001b[0m\u001b[0minputs\u001b[0m\u001b[0;34m)\u001b[0m\u001b[0;34m\u001b[0m\u001b[0;34m\u001b[0m\u001b[0m\n\u001b[0m\u001b[1;32m   2786\u001b[0m \u001b[0;34m\u001b[0m\u001b[0m\n\u001b[1;32m   2787\u001b[0m             \u001b[0;31m# Performance note: profiling indicates that -- for simple\u001b[0m\u001b[0;34m\u001b[0m\u001b[0;34m\u001b[0m\u001b[0;34m\u001b[0m\u001b[0m\n",
            "\u001b[0;32m<ipython-input-112-7a63b193d314>\u001b[0m in \u001b[0;36mdog_detector\u001b[0;34m(img_path)\u001b[0m\n\u001b[1;32m      1\u001b[0m \u001b[0;32mdef\u001b[0m \u001b[0mdog_detector\u001b[0m\u001b[0;34m(\u001b[0m\u001b[0mimg_path\u001b[0m\u001b[0;34m)\u001b[0m\u001b[0;34m:\u001b[0m\u001b[0;34m\u001b[0m\u001b[0;34m\u001b[0m\u001b[0m\n\u001b[0;32m----> 2\u001b[0;31m     \u001b[0mprediction\u001b[0m \u001b[0;34m=\u001b[0m \u001b[0mResNet50_predict_labels\u001b[0m\u001b[0;34m(\u001b[0m\u001b[0mimg_path\u001b[0m\u001b[0;34m)\u001b[0m\u001b[0;34m\u001b[0m\u001b[0;34m\u001b[0m\u001b[0m\n\u001b[0m\u001b[1;32m      3\u001b[0m     \u001b[0;32mreturn\u001b[0m \u001b[0;34m(\u001b[0m\u001b[0;34m(\u001b[0m\u001b[0mprediction\u001b[0m \u001b[0;34m<=\u001b[0m \u001b[0;36m268\u001b[0m\u001b[0;34m)\u001b[0m \u001b[0;34m&\u001b[0m \u001b[0;34m(\u001b[0m\u001b[0mprediction\u001b[0m \u001b[0;34m>=\u001b[0m \u001b[0;36m151\u001b[0m\u001b[0;34m)\u001b[0m\u001b[0;34m)\u001b[0m\u001b[0;34m\u001b[0m\u001b[0;34m\u001b[0m\u001b[0m\n",
            "\u001b[0;32m<ipython-input-111-4e0ccdc559f6>\u001b[0m in \u001b[0;36mResNet50_predict_labels\u001b[0;34m(img_path)\u001b[0m\n\u001b[1;32m      4\u001b[0m     \u001b[0;31m# returns prediction vector for image located at img_path\u001b[0m\u001b[0;34m\u001b[0m\u001b[0;34m\u001b[0m\u001b[0;34m\u001b[0m\u001b[0m\n\u001b[1;32m      5\u001b[0m     \u001b[0mimg\u001b[0m \u001b[0;34m=\u001b[0m \u001b[0mpreprocess_input\u001b[0m\u001b[0;34m(\u001b[0m\u001b[0mpath_to_tensor\u001b[0m\u001b[0;34m(\u001b[0m\u001b[0mimg_path\u001b[0m\u001b[0;34m)\u001b[0m\u001b[0;34m)\u001b[0m\u001b[0;34m\u001b[0m\u001b[0;34m\u001b[0m\u001b[0m\n\u001b[0;32m----> 6\u001b[0;31m     \u001b[0;32mreturn\u001b[0m \u001b[0mnp\u001b[0m\u001b[0;34m.\u001b[0m\u001b[0margmax\u001b[0m\u001b[0;34m(\u001b[0m\u001b[0mResNet50_model\u001b[0m\u001b[0;34m.\u001b[0m\u001b[0mpredict\u001b[0m\u001b[0;34m(\u001b[0m\u001b[0mimg\u001b[0m\u001b[0;34m)\u001b[0m\u001b[0;34m)\u001b[0m\u001b[0;34m\u001b[0m\u001b[0;34m\u001b[0m\u001b[0m\n\u001b[0m",
            "\u001b[0;32m/usr/local/lib/python3.6/dist-packages/tensorflow/python/keras/engine/training.py\u001b[0m in \u001b[0;36mpredict\u001b[0;34m(self, x, batch_size, verbose, steps, max_queue_size, workers, use_multiprocessing)\u001b[0m\n\u001b[1;32m   1876\u001b[0m     \u001b[0;32melse\u001b[0m\u001b[0;34m:\u001b[0m\u001b[0;34m\u001b[0m\u001b[0;34m\u001b[0m\u001b[0m\n\u001b[1;32m   1877\u001b[0m       return training_arrays.predict_loop(\n\u001b[0;32m-> 1878\u001b[0;31m           self, x, batch_size=batch_size, verbose=verbose, steps=steps)\n\u001b[0m\u001b[1;32m   1879\u001b[0m \u001b[0;34m\u001b[0m\u001b[0m\n\u001b[1;32m   1880\u001b[0m   \u001b[0;32mdef\u001b[0m \u001b[0mtrain_on_batch\u001b[0m\u001b[0;34m(\u001b[0m\u001b[0mself\u001b[0m\u001b[0;34m,\u001b[0m \u001b[0mx\u001b[0m\u001b[0;34m,\u001b[0m \u001b[0my\u001b[0m\u001b[0;34m=\u001b[0m\u001b[0;32mNone\u001b[0m\u001b[0;34m,\u001b[0m \u001b[0msample_weight\u001b[0m\u001b[0;34m=\u001b[0m\u001b[0;32mNone\u001b[0m\u001b[0;34m,\u001b[0m \u001b[0mclass_weight\u001b[0m\u001b[0;34m=\u001b[0m\u001b[0;32mNone\u001b[0m\u001b[0;34m)\u001b[0m\u001b[0;34m:\u001b[0m\u001b[0;34m\u001b[0m\u001b[0;34m\u001b[0m\u001b[0m\n",
            "\u001b[0;32m/usr/local/lib/python3.6/dist-packages/tensorflow/python/keras/engine/training_arrays.py\u001b[0m in \u001b[0;36mpredict_loop\u001b[0;34m(model, inputs, batch_size, verbose, steps)\u001b[0m\n\u001b[1;32m    261\u001b[0m       \u001b[0;34m(\u001b[0m\u001b[0;32mif\u001b[0m \u001b[0mthe\u001b[0m \u001b[0mmodel\u001b[0m \u001b[0mhas\u001b[0m \u001b[0mmultiple\u001b[0m \u001b[0moutputs\u001b[0m\u001b[0;34m)\u001b[0m\u001b[0;34m.\u001b[0m\u001b[0;34m\u001b[0m\u001b[0;34m\u001b[0m\u001b[0m\n\u001b[1;32m    262\u001b[0m   \"\"\"\n\u001b[0;32m--> 263\u001b[0;31m   \u001b[0mmodel\u001b[0m\u001b[0;34m.\u001b[0m\u001b[0m_make_predict_function\u001b[0m\u001b[0;34m(\u001b[0m\u001b[0;34m)\u001b[0m\u001b[0;34m\u001b[0m\u001b[0;34m\u001b[0m\u001b[0m\n\u001b[0m\u001b[1;32m    264\u001b[0m   \u001b[0mf\u001b[0m \u001b[0;34m=\u001b[0m \u001b[0mmodel\u001b[0m\u001b[0;34m.\u001b[0m\u001b[0mpredict_function\u001b[0m\u001b[0;34m\u001b[0m\u001b[0;34m\u001b[0m\u001b[0m\n\u001b[1;32m    265\u001b[0m \u001b[0;34m\u001b[0m\u001b[0m\n",
            "\u001b[0;32m/usr/local/lib/python3.6/dist-packages/tensorflow/python/keras/engine/training.py\u001b[0m in \u001b[0;36m_make_predict_function\u001b[0;34m(self)\u001b[0m\n\u001b[1;32m    745\u001b[0m           \u001b[0mupdates\u001b[0m\u001b[0;34m=\u001b[0m\u001b[0mself\u001b[0m\u001b[0;34m.\u001b[0m\u001b[0mstate_updates\u001b[0m\u001b[0;34m,\u001b[0m\u001b[0;34m\u001b[0m\u001b[0;34m\u001b[0m\u001b[0m\n\u001b[1;32m    746\u001b[0m           \u001b[0mname\u001b[0m\u001b[0;34m=\u001b[0m\u001b[0;34m'predict_function'\u001b[0m\u001b[0;34m,\u001b[0m\u001b[0;34m\u001b[0m\u001b[0;34m\u001b[0m\u001b[0m\n\u001b[0;32m--> 747\u001b[0;31m           **kwargs)\n\u001b[0m\u001b[1;32m    748\u001b[0m \u001b[0;34m\u001b[0m\u001b[0m\n\u001b[1;32m    749\u001b[0m   \u001b[0;32mdef\u001b[0m \u001b[0m_get_iterator_get_next_tensors\u001b[0m\u001b[0;34m(\u001b[0m\u001b[0mself\u001b[0m\u001b[0;34m,\u001b[0m \u001b[0miterator\u001b[0m\u001b[0;34m)\u001b[0m\u001b[0;34m:\u001b[0m\u001b[0;34m\u001b[0m\u001b[0;34m\u001b[0m\u001b[0m\n",
            "\u001b[0;32m/usr/local/lib/python3.6/dist-packages/tensorflow/python/keras/backend.py\u001b[0m in \u001b[0;36mfunction\u001b[0;34m(inputs, outputs, updates, **kwargs)\u001b[0m\n\u001b[1;32m   3012\u001b[0m                'backend') % key\n\u001b[1;32m   3013\u001b[0m         \u001b[0;32mraise\u001b[0m \u001b[0mValueError\u001b[0m\u001b[0;34m(\u001b[0m\u001b[0mmsg\u001b[0m\u001b[0;34m)\u001b[0m\u001b[0;34m\u001b[0m\u001b[0;34m\u001b[0m\u001b[0m\n\u001b[0;32m-> 3014\u001b[0;31m   \u001b[0;32mreturn\u001b[0m \u001b[0mFunction\u001b[0m\u001b[0;34m(\u001b[0m\u001b[0minputs\u001b[0m\u001b[0;34m,\u001b[0m \u001b[0moutputs\u001b[0m\u001b[0;34m,\u001b[0m \u001b[0mupdates\u001b[0m\u001b[0;34m=\u001b[0m\u001b[0mupdates\u001b[0m\u001b[0;34m,\u001b[0m \u001b[0;34m**\u001b[0m\u001b[0mkwargs\u001b[0m\u001b[0;34m)\u001b[0m\u001b[0;34m\u001b[0m\u001b[0;34m\u001b[0m\u001b[0m\n\u001b[0m\u001b[1;32m   3015\u001b[0m \u001b[0;34m\u001b[0m\u001b[0m\n\u001b[1;32m   3016\u001b[0m \u001b[0;34m\u001b[0m\u001b[0m\n",
            "\u001b[0;32m/usr/local/lib/python3.6/dist-packages/tensorflow/python/keras/backend.py\u001b[0m in \u001b[0;36m__init__\u001b[0;34m(self, inputs, outputs, updates, name, **session_kwargs)\u001b[0m\n\u001b[1;32m   2846\u001b[0m     \u001b[0mself\u001b[0m\u001b[0;34m.\u001b[0m\u001b[0minputs\u001b[0m \u001b[0;34m=\u001b[0m \u001b[0mlist\u001b[0m\u001b[0;34m(\u001b[0m\u001b[0minputs\u001b[0m\u001b[0;34m)\u001b[0m\u001b[0;34m\u001b[0m\u001b[0;34m\u001b[0m\u001b[0m\n\u001b[1;32m   2847\u001b[0m     \u001b[0mself\u001b[0m\u001b[0;34m.\u001b[0m\u001b[0moutputs\u001b[0m \u001b[0;34m=\u001b[0m \u001b[0mlist\u001b[0m\u001b[0;34m(\u001b[0m\u001b[0moutputs\u001b[0m\u001b[0;34m)\u001b[0m\u001b[0;34m\u001b[0m\u001b[0;34m\u001b[0m\u001b[0m\n\u001b[0;32m-> 2848\u001b[0;31m     \u001b[0;32mwith\u001b[0m \u001b[0mops\u001b[0m\u001b[0;34m.\u001b[0m\u001b[0mcontrol_dependencies\u001b[0m\u001b[0;34m(\u001b[0m\u001b[0mself\u001b[0m\u001b[0;34m.\u001b[0m\u001b[0moutputs\u001b[0m\u001b[0;34m)\u001b[0m\u001b[0;34m:\u001b[0m\u001b[0;34m\u001b[0m\u001b[0;34m\u001b[0m\u001b[0m\n\u001b[0m\u001b[1;32m   2849\u001b[0m       \u001b[0mupdates_ops\u001b[0m \u001b[0;34m=\u001b[0m \u001b[0;34m[\u001b[0m\u001b[0;34m]\u001b[0m\u001b[0;34m\u001b[0m\u001b[0;34m\u001b[0m\u001b[0m\n\u001b[1;32m   2850\u001b[0m       \u001b[0;32mfor\u001b[0m \u001b[0mupdate\u001b[0m \u001b[0;32min\u001b[0m \u001b[0mupdates\u001b[0m\u001b[0;34m:\u001b[0m\u001b[0;34m\u001b[0m\u001b[0;34m\u001b[0m\u001b[0m\n",
            "\u001b[0;32m/usr/local/lib/python3.6/dist-packages/tensorflow/python/framework/ops.py\u001b[0m in \u001b[0;36mcontrol_dependencies\u001b[0;34m(control_inputs)\u001b[0m\n\u001b[1;32m   5002\u001b[0m     \u001b[0;32mreturn\u001b[0m \u001b[0m_NullContextmanager\u001b[0m\u001b[0;34m(\u001b[0m\u001b[0;34m)\u001b[0m\u001b[0;34m\u001b[0m\u001b[0;34m\u001b[0m\u001b[0m\n\u001b[1;32m   5003\u001b[0m   \u001b[0;32melse\u001b[0m\u001b[0;34m:\u001b[0m\u001b[0;34m\u001b[0m\u001b[0;34m\u001b[0m\u001b[0m\n\u001b[0;32m-> 5004\u001b[0;31m     \u001b[0;32mreturn\u001b[0m \u001b[0mget_default_graph\u001b[0m\u001b[0;34m(\u001b[0m\u001b[0;34m)\u001b[0m\u001b[0;34m.\u001b[0m\u001b[0mcontrol_dependencies\u001b[0m\u001b[0;34m(\u001b[0m\u001b[0mcontrol_inputs\u001b[0m\u001b[0;34m)\u001b[0m\u001b[0;34m\u001b[0m\u001b[0;34m\u001b[0m\u001b[0m\n\u001b[0m\u001b[1;32m   5005\u001b[0m \u001b[0;34m\u001b[0m\u001b[0m\n\u001b[1;32m   5006\u001b[0m \u001b[0;34m\u001b[0m\u001b[0m\n",
            "\u001b[0;32m/usr/local/lib/python3.6/dist-packages/tensorflow/python/framework/ops.py\u001b[0m in \u001b[0;36mcontrol_dependencies\u001b[0;34m(self, control_inputs)\u001b[0m\n\u001b[1;32m   4541\u001b[0m       \u001b[0;32mif\u001b[0m \u001b[0misinstance\u001b[0m\u001b[0;34m(\u001b[0m\u001b[0mc\u001b[0m\u001b[0;34m,\u001b[0m \u001b[0mIndexedSlices\u001b[0m\u001b[0;34m)\u001b[0m\u001b[0;34m:\u001b[0m\u001b[0;34m\u001b[0m\u001b[0;34m\u001b[0m\u001b[0m\n\u001b[1;32m   4542\u001b[0m         \u001b[0mc\u001b[0m \u001b[0;34m=\u001b[0m \u001b[0mc\u001b[0m\u001b[0;34m.\u001b[0m\u001b[0mop\u001b[0m\u001b[0;34m\u001b[0m\u001b[0;34m\u001b[0m\u001b[0m\n\u001b[0;32m-> 4543\u001b[0;31m       \u001b[0mc\u001b[0m \u001b[0;34m=\u001b[0m \u001b[0mself\u001b[0m\u001b[0;34m.\u001b[0m\u001b[0mas_graph_element\u001b[0m\u001b[0;34m(\u001b[0m\u001b[0mc\u001b[0m\u001b[0;34m)\u001b[0m\u001b[0;34m\u001b[0m\u001b[0;34m\u001b[0m\u001b[0m\n\u001b[0m\u001b[1;32m   4544\u001b[0m       \u001b[0;32mif\u001b[0m \u001b[0misinstance\u001b[0m\u001b[0;34m(\u001b[0m\u001b[0mc\u001b[0m\u001b[0;34m,\u001b[0m \u001b[0mTensor\u001b[0m\u001b[0;34m)\u001b[0m\u001b[0;34m:\u001b[0m\u001b[0;34m\u001b[0m\u001b[0;34m\u001b[0m\u001b[0m\n\u001b[1;32m   4545\u001b[0m         \u001b[0mc\u001b[0m \u001b[0;34m=\u001b[0m \u001b[0mc\u001b[0m\u001b[0;34m.\u001b[0m\u001b[0mop\u001b[0m\u001b[0;34m\u001b[0m\u001b[0;34m\u001b[0m\u001b[0m\n",
            "\u001b[0;32m/usr/local/lib/python3.6/dist-packages/tensorflow/python/framework/ops.py\u001b[0m in \u001b[0;36mas_graph_element\u001b[0;34m(self, obj, allow_tensor, allow_operation)\u001b[0m\n\u001b[1;32m   3488\u001b[0m \u001b[0;34m\u001b[0m\u001b[0m\n\u001b[1;32m   3489\u001b[0m     \u001b[0;32mwith\u001b[0m \u001b[0mself\u001b[0m\u001b[0;34m.\u001b[0m\u001b[0m_lock\u001b[0m\u001b[0;34m:\u001b[0m\u001b[0;34m\u001b[0m\u001b[0;34m\u001b[0m\u001b[0m\n\u001b[0;32m-> 3490\u001b[0;31m       \u001b[0;32mreturn\u001b[0m \u001b[0mself\u001b[0m\u001b[0;34m.\u001b[0m\u001b[0m_as_graph_element_locked\u001b[0m\u001b[0;34m(\u001b[0m\u001b[0mobj\u001b[0m\u001b[0;34m,\u001b[0m \u001b[0mallow_tensor\u001b[0m\u001b[0;34m,\u001b[0m \u001b[0mallow_operation\u001b[0m\u001b[0;34m)\u001b[0m\u001b[0;34m\u001b[0m\u001b[0;34m\u001b[0m\u001b[0m\n\u001b[0m\u001b[1;32m   3491\u001b[0m \u001b[0;34m\u001b[0m\u001b[0m\n\u001b[1;32m   3492\u001b[0m   \u001b[0;32mdef\u001b[0m \u001b[0m_as_graph_element_locked\u001b[0m\u001b[0;34m(\u001b[0m\u001b[0mself\u001b[0m\u001b[0;34m,\u001b[0m \u001b[0mobj\u001b[0m\u001b[0;34m,\u001b[0m \u001b[0mallow_tensor\u001b[0m\u001b[0;34m,\u001b[0m \u001b[0mallow_operation\u001b[0m\u001b[0;34m)\u001b[0m\u001b[0;34m:\u001b[0m\u001b[0;34m\u001b[0m\u001b[0;34m\u001b[0m\u001b[0m\n",
            "\u001b[0;32m/usr/local/lib/python3.6/dist-packages/tensorflow/python/framework/ops.py\u001b[0m in \u001b[0;36m_as_graph_element_locked\u001b[0;34m(self, obj, allow_tensor, allow_operation)\u001b[0m\n\u001b[1;32m   3567\u001b[0m       \u001b[0;31m# Actually obj is just the object it's referring to.\u001b[0m\u001b[0;34m\u001b[0m\u001b[0;34m\u001b[0m\u001b[0;34m\u001b[0m\u001b[0m\n\u001b[1;32m   3568\u001b[0m       \u001b[0;32mif\u001b[0m \u001b[0mobj\u001b[0m\u001b[0;34m.\u001b[0m\u001b[0mgraph\u001b[0m \u001b[0;32mis\u001b[0m \u001b[0;32mnot\u001b[0m \u001b[0mself\u001b[0m\u001b[0;34m:\u001b[0m\u001b[0;34m\u001b[0m\u001b[0;34m\u001b[0m\u001b[0m\n\u001b[0;32m-> 3569\u001b[0;31m         \u001b[0;32mraise\u001b[0m \u001b[0mValueError\u001b[0m\u001b[0;34m(\u001b[0m\u001b[0;34m\"Tensor %s is not an element of this graph.\"\u001b[0m \u001b[0;34m%\u001b[0m \u001b[0mobj\u001b[0m\u001b[0;34m)\u001b[0m\u001b[0;34m\u001b[0m\u001b[0;34m\u001b[0m\u001b[0m\n\u001b[0m\u001b[1;32m   3570\u001b[0m       \u001b[0;32mreturn\u001b[0m \u001b[0mobj\u001b[0m\u001b[0;34m\u001b[0m\u001b[0;34m\u001b[0m\u001b[0m\n\u001b[1;32m   3571\u001b[0m     \u001b[0;32melif\u001b[0m \u001b[0misinstance\u001b[0m\u001b[0;34m(\u001b[0m\u001b[0mobj\u001b[0m\u001b[0;34m,\u001b[0m \u001b[0mOperation\u001b[0m\u001b[0;34m)\u001b[0m \u001b[0;32mand\u001b[0m \u001b[0mallow_operation\u001b[0m\u001b[0;34m:\u001b[0m\u001b[0;34m\u001b[0m\u001b[0;34m\u001b[0m\u001b[0m\n",
            "\u001b[0;31mValueError\u001b[0m: Tensor Tensor(\"fc1000/Softmax:0\", shape=(?, 1000), dtype=float32) is not an element of this graph."
          ]
        }
      ]
    },
    {
      "metadata": {
        "id": "GVc1wCgFWXKJ",
        "colab_type": "text"
      },
      "cell_type": "markdown",
      "source": [
        "---\n",
        "<a id='step3'></a>\n",
        "## Step 3: Create a CNN to Classify Dog Breeds (from Scratch)\n",
        "\n",
        "Now that we have functions for detecting humans and dogs in images, we need a way to predict breed from images.  In this step, you will create a CNN that classifies dog breeds.  You must create your CNN _from scratch_ (so, you can't use transfer learning _yet_!), and you must attain a test accuracy of at least 1%.  In Step 5 of this notebook, you will have the opportunity to use transfer learning to create a CNN that attains greatly improved accuracy.\n",
        "\n",
        "Be careful with adding too many trainable layers!  More parameters means longer training, which means you are more likely to need a GPU to accelerate the training process.  Thankfully, Keras provides a handy estimate of the time that each epoch is likely to take; you can extrapolate this estimate to figure out how long it will take for your algorithm to train. \n",
        "\n",
        "We mention that the task of assigning breed to dogs from images is considered exceptionally challenging.  To see why, consider that *even a human* would have great difficulty in distinguishing between a Brittany and a Welsh Springer Spaniel.  \n",
        "\n",
        "Brittany | Welsh Springer Spaniel\n",
        "- | - \n",
        "<img src=\"https://github.com/udacity/dog-project/blob/master/images/Brittany_02625.jpg?raw=1\" width=\"100\"> | <img src=\"https://github.com/udacity/dog-project/blob/master/images/Welsh_springer_spaniel_08203.jpg?raw=1\" width=\"200\">\n",
        "\n",
        "It is not difficult to find other dog breed pairs with minimal inter-class variation (for instance, Curly-Coated Retrievers and American Water Spaniels).  \n",
        "\n",
        "Curly-Coated Retriever | American Water Spaniel\n",
        "- | -\n",
        "<img src=\"https://github.com/udacity/dog-project/blob/master/images/Curly-coated_retriever_03896.jpg?raw=1\" width=\"200\"> | <img src=\"https://github.com/udacity/dog-project/blob/master/images/American_water_spaniel_00648.jpg?raw=1\" width=\"200\">\n",
        "\n",
        "\n",
        "Likewise, recall that labradors come in yellow, chocolate, and black.  Your vision-based algorithm will have to conquer this high intra-class variation to determine how to classify all of these different shades as the same breed.  \n",
        "\n",
        "Yellow Labrador | Chocolate Labrador | Black Labrador\n",
        "- | -\n",
        "<img src=\"https://github.com/udacity/dog-project/blob/master/images/Labrador_retriever_06457.jpg?raw=1\" width=\"150\"> | <img src=\"https://github.com/udacity/dog-project/blob/master/images/Labrador_retriever_06455.jpg?raw=1\" width=\"240\"> | <img src=\"https://github.com/udacity/dog-project/blob/master/images/Labrador_retriever_06449.jpg?raw=1\" width=\"220\">\n",
        "\n",
        "We also mention that random chance presents an exceptionally low bar: setting aside the fact that the classes are slightly imabalanced, a random guess will provide a correct answer roughly 1 in 133 times, which corresponds to an accuracy of less than 1%.  \n",
        "\n",
        "Remember that the practice is far ahead of the theory in deep learning.  Experiment with many different architectures, and trust your intuition.  And, of course, have fun! \n",
        "\n",
        "### Pre-process the Data\n",
        "\n",
        "We rescale the images by dividing every pixel in every image by 255."
      ]
    },
    {
      "metadata": {
        "id": "pt6Luf9sWXKK",
        "colab_type": "code",
        "outputId": "79f53057-e564-4025-fd99-2b305204b241",
        "colab": {
          "base_uri": "https://localhost:8080/",
          "height": 67
        }
      },
      "cell_type": "code",
      "source": [
        "from PIL import ImageFile                            \n",
        "ImageFile.LOAD_TRUNCATED_IMAGES = True                 \n",
        "\n",
        "# pre-process the data for Keras\n",
        "train_tensors = paths_to_tensor(train_files).astype('float32')/255\n",
        "valid_tensors = paths_to_tensor(valid_files).astype('float32')/255\n",
        "test_tensors = paths_to_tensor(test_files).astype('float32')/255\n",
        "\n",
        "x_train = train_tensors\n",
        "y_train = valid_tensors"
      ],
      "execution_count": 14,
      "outputs": [
        {
          "output_type": "stream",
          "text": [
            "100%|██████████| 6680/6680 [01:05<00:00, 101.84it/s]\n",
            "100%|██████████| 835/835 [00:07<00:00, 112.28it/s]\n",
            "100%|██████████| 836/836 [00:07<00:00, 113.94it/s]\n"
          ],
          "name": "stderr"
        }
      ]
    },
    {
      "metadata": {
        "id": "g4AsXMgpKCir",
        "colab_type": "text"
      },
      "cell_type": "markdown",
      "source": [
        "First I check existent networks in this article \n",
        "\n",
        "[Towards data science blog, inceptionv4 review](https://towardsdatascience.com/review-inception-v4-evolved-from-googlenet-merged-with-resnet-idea-image-classification-5e8c339d18bc)\n",
        "\n",
        "\n",
        "![alt text](https://cdn-images-1.medium.com/max/1000/1*A0JzlOwTokGwhcBhT89tDQ.png)\n",
        "\n",
        "And the Udacity lesson about models to have an idea.\n",
        "\n",
        "Seems that both resnet and VGG work with 224 x 224 pix images. Inception v4 on the other side works with 299 x 299 pix images.\n",
        "\n",
        "That is why there is code to resize to 224 x 224 when testing with ResNet50! "
      ]
    },
    {
      "metadata": {
        "id": "IMbS4AsXWXKO",
        "colab_type": "text"
      },
      "cell_type": "markdown",
      "source": [
        "### (IMPLEMENTATION) Model Architecture\n",
        "\n",
        "Create a CNN to classify dog breed.  At the end of your code cell block, summarize the layers of your model by executing the line:\n",
        "    \n",
        "        model.summary()\n",
        "\n",
        "We have imported some Python modules to get you started, but feel free to import as many modules as you need.  If you end up getting stuck, here's a hint that specifies a model that trains relatively fast on CPU and attains >1% test accuracy in 5 epochs:\n",
        "\n",
        "![Sample CNN](https://github.com/udacity/dog-project/blob/master/images/sample_cnn.png?raw=1)\n",
        "           \n",
        "__Question 4:__ Outline the steps you took to get to your final CNN architecture and your reasoning at each step.  If you chose to use the hinted architecture above, describe why you think that CNN architecture should work well for the image classification task.\n",
        "\n",
        "__Answer:__ "
      ]
    },
    {
      "metadata": {
        "id": "hduhaVFsWXKQ",
        "colab_type": "code",
        "colab": {
          "base_uri": "https://localhost:8080/",
          "height": 739
        },
        "outputId": "54022fc1-ebee-4711-ad0a-9c422aa08fad"
      },
      "cell_type": "code",
      "source": [
        "import tensorflow as tf\n",
        "from tensorflow import keras\n",
        "from tensorflow.keras.layers import SeparableConv2D, MaxPooling2D, GlobalAveragePooling2D\n",
        "from tensorflow.keras.layers import Dropout, Flatten, Dense, Activation\n",
        "from tensorflow.keras.models import Sequential\n",
        "\n",
        "\n",
        "tf.keras.backend.clear_session()\n",
        "\n",
        "model = Sequential()\n",
        "\n",
        "\n",
        "model.add(keras.layers.BatchNormalization(input_shape=(224, 224, 3)))\n",
        "model.add(keras.layers.Conv2D(filters=16, kernel_size=3, padding=\"valid\", activation=\"relu\"))\n",
        "model.add(keras.layers.MaxPooling2D(pool_size=2, strides=None, padding=\"valid\"))\n",
        "model.add(keras.layers.BatchNormalization())\n",
        "\n",
        "model.add(keras.layers.Conv2D(filters=32, kernel_size=3, padding=\"valid\", activation=\"relu\"))\n",
        "model.add(keras.layers.MaxPooling2D(pool_size=2, strides=None, padding=\"valid\"))\n",
        "model.add(keras.layers.BatchNormalization())\n",
        "\n",
        "model.add(keras.layers.Conv2D(filters=64, kernel_size=3,  padding=\"valid\", activation=\"relu\"))\n",
        "model.add(keras.layers.MaxPooling2D(pool_size=2, strides=None, padding=\"valid\"))\n",
        "model.add(keras.layers.BatchNormalization())\n",
        "\n",
        "model.add(keras.layers.Conv2D(filters=128, kernel_size=3,  padding=\"valid\", activation=\"relu\"))\n",
        "model.add(keras.layers.BatchNormalization())\n",
        "\n",
        "model.add(keras.layers.Conv2D(filters=256, kernel_size=3, padding=\"valid\", activation=\"relu\"))\n",
        "model.add(keras.layers.MaxPooling2D(pool_size=2, strides=None, padding=\"valid\"))\n",
        "model.add(keras.layers.BatchNormalization())\n",
        "\n",
        "model.add(keras.layers.GlobalAveragePooling2D(data_format=None))\n",
        "model.add(keras.layers.Dropout(0.3))\n",
        "model.add(keras.layers.Dense(133, activation='softmax'))\n",
        "\n",
        "\n",
        "\n",
        "model.compile(optimizer=tf.train.AdagradOptimizer(learning_rate=0.05),\n",
        "    loss='categorical_crossentropy',\n",
        "    metrics=['accuracy'])\n",
        "\n",
        "\n",
        "\n",
        "#model.compile(optimizer='rmsprop', loss='categorical_crossentropy', metrics=['accuracy'])\n",
        "#model.summary()\n",
        "\n",
        "\n",
        "#mymodel.compile(optimizer=tf.train.AdagradOptimizer(learning_rate=0.1),loss='categorical_crossentropy', metrics=['acc'])\n",
        "\n",
        "\n",
        "\n",
        "model.summary()\n"
      ],
      "execution_count": 81,
      "outputs": [
        {
          "output_type": "stream",
          "text": [
            "_________________________________________________________________\n",
            "Layer (type)                 Output Shape              Param #   \n",
            "=================================================================\n",
            "batch_normalization (BatchNo (None, 224, 224, 3)       12        \n",
            "_________________________________________________________________\n",
            "conv2d (Conv2D)              (None, 222, 222, 16)      448       \n",
            "_________________________________________________________________\n",
            "max_pooling2d (MaxPooling2D) (None, 111, 111, 16)      0         \n",
            "_________________________________________________________________\n",
            "batch_normalization_1 (Batch (None, 111, 111, 16)      64        \n",
            "_________________________________________________________________\n",
            "conv2d_1 (Conv2D)            (None, 109, 109, 32)      4640      \n",
            "_________________________________________________________________\n",
            "max_pooling2d_1 (MaxPooling2 (None, 54, 54, 32)        0         \n",
            "_________________________________________________________________\n",
            "batch_normalization_2 (Batch (None, 54, 54, 32)        128       \n",
            "_________________________________________________________________\n",
            "conv2d_2 (Conv2D)            (None, 52, 52, 64)        18496     \n",
            "_________________________________________________________________\n",
            "max_pooling2d_2 (MaxPooling2 (None, 26, 26, 64)        0         \n",
            "_________________________________________________________________\n",
            "batch_normalization_3 (Batch (None, 26, 26, 64)        256       \n",
            "_________________________________________________________________\n",
            "conv2d_3 (Conv2D)            (None, 24, 24, 128)       73856     \n",
            "_________________________________________________________________\n",
            "batch_normalization_4 (Batch (None, 24, 24, 128)       512       \n",
            "_________________________________________________________________\n",
            "conv2d_4 (Conv2D)            (None, 22, 22, 256)       295168    \n",
            "_________________________________________________________________\n",
            "max_pooling2d_3 (MaxPooling2 (None, 11, 11, 256)       0         \n",
            "_________________________________________________________________\n",
            "batch_normalization_5 (Batch (None, 11, 11, 256)       1024      \n",
            "_________________________________________________________________\n",
            "global_average_pooling2d (Gl (None, 256)               0         \n",
            "_________________________________________________________________\n",
            "dropout (Dropout)            (None, 256)               0         \n",
            "_________________________________________________________________\n",
            "dense (Dense)                (None, 133)               34181     \n",
            "=================================================================\n",
            "Total params: 428,785\n",
            "Trainable params: 427,787\n",
            "Non-trainable params: 998\n",
            "_________________________________________________________________\n"
          ],
          "name": "stdout"
        }
      ]
    },
    {
      "metadata": {
        "id": "cn14f7d8WXKS",
        "colab_type": "text"
      },
      "cell_type": "markdown",
      "source": [
        "### Compile the Model"
      ]
    },
    {
      "metadata": {
        "id": "ov_OAPyiWXKZ",
        "colab_type": "text"
      },
      "cell_type": "markdown",
      "source": [
        "### (IMPLEMENTATION) Train the Model\n",
        "\n",
        "Train your model in the code cell below.  Use model checkpointing to save the model that attains the best validation loss.\n",
        "\n",
        "You are welcome to [augment the training data](https://blog.keras.io/building-powerful-image-classification-models-using-very-little-data.html), but this is not a requirement. "
      ]
    },
    {
      "metadata": {
        "id": "awXPk53VU2p3",
        "colab_type": "code",
        "colab": {
          "base_uri": "https://localhost:8080/",
          "height": 1314
        },
        "outputId": "9b162b64-6d31-42e7-c8f7-f203d14d5e3c"
      },
      "cell_type": "code",
      "source": [
        "#TPU adapter from keras code\n",
        "\n",
        "import os\n",
        "import pprint\n",
        "use_tpu = True #@param {type:\"boolean\"}\n",
        "\n",
        "if use_tpu:\n",
        "    assert 'COLAB_TPU_ADDR' in os.environ, 'Missing TPU; did you request a TPU in Notebook Settings?'\n",
        "\n",
        "if 'COLAB_TPU_ADDR' in os.environ:\n",
        "  TF_MASTER = 'grpc://{}'.format(os.environ['COLAB_TPU_ADDR'])\n",
        "else:\n",
        "  TF_MASTER=''\n",
        "\n",
        "with tf.Session(TF_MASTER) as session:\n",
        "  print ('List of devices:')\n",
        "  pprint.pprint(session.list_devices())\n",
        "\n",
        "#tf.keras.backend.clear_session()\n",
        "\n",
        "# Model specific parameters\n",
        "\n",
        "# TPU address\n",
        "tpu_address = TF_MASTER\n",
        "\n",
        "# Number of epochs\n",
        "epochs = 50\n",
        "\n",
        "# Number of steps_per_epoch\n",
        "steps_per_epoch = 20\n",
        "\n",
        "# NOTE: Total number of training steps = Number of epochs * Number of steps_per_epochs\n",
        "\n",
        "# Total number of evaluation steps. If '0', evaluation after training is skipped\n",
        "eval_steps = 50\n",
        "\n",
        "# This address identifies the TPU we'll use when configuring TensorFlow.\n",
        "TPU_WORKER = 'grpc://' + os.environ['COLAB_TPU_ADDR']\n",
        "tf.logging.set_verbosity(tf.logging.INFO)\n",
        "\n",
        "\n",
        "tpu_model = tf.contrib.tpu.keras_to_tpu_model(\n",
        "    model,\n",
        "    strategy=tf.contrib.tpu.TPUDistributionStrategy(\n",
        "        tf.contrib.cluster_resolver.TPUClusterResolver(TPU_WORKER)))\n",
        "\n",
        "tpu_model.summary()"
      ],
      "execution_count": 82,
      "outputs": [
        {
          "output_type": "stream",
          "text": [
            "List of devices:\n",
            "[_DeviceAttributes(/job:tpu_worker/replica:0/task:0/device:CPU:0, CPU, -1, 3174097633927323055),\n",
            " _DeviceAttributes(/job:tpu_worker/replica:0/task:0/device:XLA_CPU:0, XLA_CPU, 17179869184, 8828749716653326921),\n",
            " _DeviceAttributes(/job:tpu_worker/replica:0/task:0/device:XLA_GPU:0, XLA_GPU, 17179869184, 17821861301096199081),\n",
            " _DeviceAttributes(/job:tpu_worker/replica:0/task:0/device:TPU:0, TPU, 17179869184, 12982018844562443373),\n",
            " _DeviceAttributes(/job:tpu_worker/replica:0/task:0/device:TPU:1, TPU, 17179869184, 9409231430123042688),\n",
            " _DeviceAttributes(/job:tpu_worker/replica:0/task:0/device:TPU:2, TPU, 17179869184, 6277923712896985736),\n",
            " _DeviceAttributes(/job:tpu_worker/replica:0/task:0/device:TPU:3, TPU, 17179869184, 13307924019375335853),\n",
            " _DeviceAttributes(/job:tpu_worker/replica:0/task:0/device:TPU:4, TPU, 17179869184, 15350502635250861892),\n",
            " _DeviceAttributes(/job:tpu_worker/replica:0/task:0/device:TPU:5, TPU, 17179869184, 9825538723467078842),\n",
            " _DeviceAttributes(/job:tpu_worker/replica:0/task:0/device:TPU:6, TPU, 17179869184, 4352449626525469606),\n",
            " _DeviceAttributes(/job:tpu_worker/replica:0/task:0/device:TPU:7, TPU, 17179869184, 1016702435293733365),\n",
            " _DeviceAttributes(/job:tpu_worker/replica:0/task:0/device:TPU_SYSTEM:0, TPU_SYSTEM, 17179869184, 16822453732825710036)]\n",
            "INFO:tensorflow:Querying Tensorflow master (b'grpc://10.99.228.106:8470') for TPU system metadata.\n",
            "INFO:tensorflow:Found TPU system:\n",
            "INFO:tensorflow:*** Num TPU Cores: 8\n",
            "INFO:tensorflow:*** Num TPU Workers: 1\n",
            "INFO:tensorflow:*** Num TPU Cores Per Worker: 8\n",
            "INFO:tensorflow:*** Available Device: _DeviceAttributes(/job:worker/replica:0/task:0/device:CPU:0, CPU, -1, 3174097633927323055)\n",
            "INFO:tensorflow:*** Available Device: _DeviceAttributes(/job:worker/replica:0/task:0/device:XLA_CPU:0, XLA_CPU, 17179869184, 8828749716653326921)\n",
            "INFO:tensorflow:*** Available Device: _DeviceAttributes(/job:worker/replica:0/task:0/device:XLA_GPU:0, XLA_GPU, 17179869184, 17821861301096199081)\n",
            "INFO:tensorflow:*** Available Device: _DeviceAttributes(/job:worker/replica:0/task:0/device:TPU:0, TPU, 17179869184, 12982018844562443373)\n",
            "INFO:tensorflow:*** Available Device: _DeviceAttributes(/job:worker/replica:0/task:0/device:TPU:1, TPU, 17179869184, 9409231430123042688)\n",
            "INFO:tensorflow:*** Available Device: _DeviceAttributes(/job:worker/replica:0/task:0/device:TPU:2, TPU, 17179869184, 6277923712896985736)\n",
            "INFO:tensorflow:*** Available Device: _DeviceAttributes(/job:worker/replica:0/task:0/device:TPU:3, TPU, 17179869184, 13307924019375335853)\n",
            "INFO:tensorflow:*** Available Device: _DeviceAttributes(/job:worker/replica:0/task:0/device:TPU:4, TPU, 17179869184, 15350502635250861892)\n",
            "INFO:tensorflow:*** Available Device: _DeviceAttributes(/job:worker/replica:0/task:0/device:TPU:5, TPU, 17179869184, 9825538723467078842)\n",
            "INFO:tensorflow:*** Available Device: _DeviceAttributes(/job:worker/replica:0/task:0/device:TPU:6, TPU, 17179869184, 4352449626525469606)\n",
            "INFO:tensorflow:*** Available Device: _DeviceAttributes(/job:worker/replica:0/task:0/device:TPU:7, TPU, 17179869184, 1016702435293733365)\n",
            "INFO:tensorflow:*** Available Device: _DeviceAttributes(/job:worker/replica:0/task:0/device:TPU_SYSTEM:0, TPU_SYSTEM, 17179869184, 16822453732825710036)\n",
            "WARNING:tensorflow:tpu_model (from tensorflow.contrib.tpu.python.tpu.keras_support) is experimental and may change or be removed at any time, and without warning.\n",
            "_________________________________________________________________\n",
            "Layer (type)                 Output Shape              Param #   \n",
            "=================================================================\n",
            "batch_normalization_input (I (None, 224, 224, 3)       0         \n",
            "_________________________________________________________________\n",
            "batch_normalization (BatchNo (None, 224, 224, 3)       12        \n",
            "_________________________________________________________________\n",
            "conv2d (Conv2D)              (None, 222, 222, 16)      448       \n",
            "_________________________________________________________________\n",
            "max_pooling2d (MaxPooling2D) (None, 111, 111, 16)      0         \n",
            "_________________________________________________________________\n",
            "batch_normalization_1 (Batch (None, 111, 111, 16)      64        \n",
            "_________________________________________________________________\n",
            "conv2d_1 (Conv2D)            (None, 109, 109, 32)      4640      \n",
            "_________________________________________________________________\n",
            "max_pooling2d_1 (MaxPooling2 (None, 54, 54, 32)        0         \n",
            "_________________________________________________________________\n",
            "batch_normalization_2 (Batch (None, 54, 54, 32)        128       \n",
            "_________________________________________________________________\n",
            "conv2d_2 (Conv2D)            (None, 52, 52, 64)        18496     \n",
            "_________________________________________________________________\n",
            "max_pooling2d_2 (MaxPooling2 (None, 26, 26, 64)        0         \n",
            "_________________________________________________________________\n",
            "batch_normalization_3 (Batch (None, 26, 26, 64)        256       \n",
            "_________________________________________________________________\n",
            "conv2d_3 (Conv2D)            (None, 24, 24, 128)       73856     \n",
            "_________________________________________________________________\n",
            "batch_normalization_4 (Batch (None, 24, 24, 128)       512       \n",
            "_________________________________________________________________\n",
            "conv2d_4 (Conv2D)            (None, 22, 22, 256)       295168    \n",
            "_________________________________________________________________\n",
            "max_pooling2d_3 (MaxPooling2 (None, 11, 11, 256)       0         \n",
            "_________________________________________________________________\n",
            "batch_normalization_5 (Batch (None, 11, 11, 256)       1024      \n",
            "_________________________________________________________________\n",
            "global_average_pooling2d (Gl (None, 256)               0         \n",
            "_________________________________________________________________\n",
            "dropout (Dropout)            (None, 256)               0         \n",
            "_________________________________________________________________\n",
            "dense (Dense)                (None, 133)               34181     \n",
            "=================================================================\n",
            "Total params: 428,785\n",
            "Trainable params: 427,787\n",
            "Non-trainable params: 998\n",
            "_________________________________________________________________\n"
          ],
          "name": "stdout"
        }
      ]
    },
    {
      "metadata": {
        "id": "-oUXfQERtU5o",
        "colab_type": "code",
        "colab": {
          "base_uri": "https://localhost:8080/",
          "height": 373
        },
        "outputId": "721c784e-fef2-48d1-fb0b-6cebe0648587"
      },
      "cell_type": "code",
      "source": [
        "#Initialize TPU training \n",
        "\n",
        "session = tf.Session(tpu_address)\n",
        "\n",
        "with session.as_default():     \n",
        "\n",
        "    print('Initializing...')\n",
        "    session.run(tf.global_variables_initializer())\n",
        "    print('Running ops')\n",
        "    tf.initialize_all_variables().run()\n",
        "    model.fit(train_tensors, train_targets, batch_size=256, epochs=5, validation_data=(valid_tensors, valid_targets))\n",
        " "
      ],
      "execution_count": 83,
      "outputs": [
        {
          "output_type": "stream",
          "text": [
            "Initializing...\n",
            "Running ops\n"
          ],
          "name": "stdout"
        },
        {
          "output_type": "stream",
          "text": [
            "Exception ignored in: <bound method BaseSession._Callable.__del__ of <tensorflow.python.client.session.BaseSession._Callable object at 0x7fea0f31aba8>>\n",
            "Traceback (most recent call last):\n",
            "  File \"/usr/local/lib/python3.6/dist-packages/tensorflow/python/client/session.py\", line 1455, in __del__\n",
            "    self._session._session, self._handle, status)\n",
            "  File \"/usr/local/lib/python3.6/dist-packages/tensorflow/python/framework/errors_impl.py\", line 528, in __exit__\n",
            "    c_api.TF_GetCode(self.status.status))\n",
            "tensorflow.python.framework.errors_impl.CancelledError: Session has been closed.\n"
          ],
          "name": "stderr"
        },
        {
          "output_type": "stream",
          "text": [
            "Train on 6680 samples, validate on 835 samples\n",
            "Epoch 1/5\n",
            "6680/6680 [==============================] - 113s 17ms/step - loss: 4.7614 - acc: 0.0295 - val_loss: 4.8990 - val_acc: 0.0096\n",
            "Epoch 2/5\n",
            "6680/6680 [==============================] - 112s 17ms/step - loss: 4.4995 - acc: 0.0463 - val_loss: 4.9722 - val_acc: 0.0096\n",
            "Epoch 3/5\n",
            "6680/6680 [==============================] - 112s 17ms/step - loss: 4.3453 - acc: 0.0657 - val_loss: 5.0924 - val_acc: 0.0156\n",
            "Epoch 4/5\n",
            "6680/6680 [==============================] - 111s 17ms/step - loss: 4.1990 - acc: 0.0777 - val_loss: 5.1247 - val_acc: 0.0132\n",
            "Epoch 5/5\n",
            "6680/6680 [==============================] - 111s 17ms/step - loss: 4.0904 - acc: 0.0876 - val_loss: 5.2741 - val_acc: 0.0108\n"
          ],
          "name": "stdout"
        }
      ]
    },
    {
      "metadata": {
        "id": "ZbIaeeDo18vd",
        "colab_type": "code",
        "colab": {}
      },
      "cell_type": "code",
      "source": [
        "\n",
        "tpu_model.save_weights('./tpu_model.h5', overwrite=True)"
      ],
      "execution_count": 0,
      "outputs": []
    },
    {
      "metadata": {
        "id": "_lVE48t7WXKd",
        "colab_type": "text"
      },
      "cell_type": "markdown",
      "source": [
        "### Load the Model with the Best Validation Loss"
      ]
    },
    {
      "metadata": {
        "id": "6q5eyobTWXKe",
        "colab_type": "code",
        "colab": {}
      },
      "cell_type": "code",
      "source": [
        "model.load_weights('./tpu_model.h5')"
      ],
      "execution_count": 0,
      "outputs": []
    },
    {
      "metadata": {
        "id": "MckbdTzPWXKg",
        "colab_type": "text"
      },
      "cell_type": "markdown",
      "source": [
        "### Test the Model\n",
        "\n",
        "Try out your model on the test dataset of dog images.  Ensure that your test accuracy is greater than 1%."
      ]
    },
    {
      "metadata": {
        "id": "148wo4ghWXKh",
        "colab_type": "code",
        "colab": {
          "base_uri": "https://localhost:8080/",
          "height": 34
        },
        "outputId": "cd73caff-1028-4f24-9b72-46c15bc2bd77"
      },
      "cell_type": "code",
      "source": [
        "# get index of predicted dog breed for each image in test set\n",
        "dog_breed_predictions = [np.argmax(model.predict(np.expand_dims(tensor, axis=0))) for tensor in test_tensors]\n",
        "\n",
        "# report test accuracy\n",
        "test_accuracy = 100*np.sum(np.array(dog_breed_predictions)==np.argmax(test_targets, axis=1))/len(dog_breed_predictions)\n",
        "print('Test accuracy: %.4f%%' % test_accuracy)"
      ],
      "execution_count": 86,
      "outputs": [
        {
          "output_type": "stream",
          "text": [
            "Test accuracy: 0.9569%\n"
          ],
          "name": "stdout"
        }
      ]
    },
    {
      "metadata": {
        "id": "5nfNnSgXWXKl",
        "colab_type": "text"
      },
      "cell_type": "markdown",
      "source": [
        "---\n",
        "<a id='step4'></a>\n",
        "## Step 4: Use a CNN to Classify Dog Breeds\n",
        "\n",
        "To reduce training time without sacrificing accuracy, we show you how to train a CNN using transfer learning.  In the following step, you will get a chance to use transfer learning to train your own CNN.\n",
        "\n",
        "### Obtain Bottleneck Features"
      ]
    },
    {
      "metadata": {
        "id": "NVulkIsLWXKl",
        "colab_type": "code",
        "colab": {}
      },
      "cell_type": "code",
      "source": [
        "bottleneck_features = np.load('DogVGG16Data.npz')\n",
        "train_VGG16 = bottleneck_features['train']\n",
        "valid_VGG16 = bottleneck_features['valid']\n",
        "test_VGG16 = bottleneck_features['test']"
      ],
      "execution_count": 0,
      "outputs": []
    },
    {
      "metadata": {
        "id": "JfQdZfk3WXKo",
        "colab_type": "text"
      },
      "cell_type": "markdown",
      "source": [
        "### Model Architecture\n",
        "\n",
        "The model uses the the pre-trained VGG-16 model as a fixed feature extractor, where the last convolutional output of VGG-16 is fed as input to our model.  We only add a global average pooling layer and a fully connected layer, where the latter contains one node for each dog category and is equipped with a softmax."
      ]
    },
    {
      "metadata": {
        "id": "jNgJQn1dWXKp",
        "colab_type": "code",
        "colab": {
          "base_uri": "https://localhost:8080/",
          "height": 202
        },
        "outputId": "41e5d675-4427-4335-d6b1-92fcbc14507a"
      },
      "cell_type": "code",
      "source": [
        "VGG16_model = Sequential()\n",
        "VGG16_model.add(GlobalAveragePooling2D(input_shape=train_VGG16.shape[1:]))\n",
        "VGG16_model.add(Dense(133, activation='softmax'))\n",
        "\n",
        "VGG16_model.summary()"
      ],
      "execution_count": 97,
      "outputs": [
        {
          "output_type": "stream",
          "text": [
            "_________________________________________________________________\n",
            "Layer (type)                 Output Shape              Param #   \n",
            "=================================================================\n",
            "global_average_pooling2d_1 ( (None, 512)               0         \n",
            "_________________________________________________________________\n",
            "dense_1 (Dense)              (None, 133)               68229     \n",
            "=================================================================\n",
            "Total params: 68,229\n",
            "Trainable params: 68,229\n",
            "Non-trainable params: 0\n",
            "_________________________________________________________________\n"
          ],
          "name": "stdout"
        }
      ]
    },
    {
      "metadata": {
        "id": "AWlpb0S-WXKr",
        "colab_type": "text"
      },
      "cell_type": "markdown",
      "source": [
        "### Compile the Model"
      ]
    },
    {
      "metadata": {
        "id": "qcSGA-LSWXKs",
        "colab_type": "code",
        "colab": {}
      },
      "cell_type": "code",
      "source": [
        "VGG16_model.compile(loss='categorical_crossentropy', optimizer='rmsprop', metrics=['accuracy'])"
      ],
      "execution_count": 0,
      "outputs": []
    },
    {
      "metadata": {
        "id": "Za6gFrwBWXKv",
        "colab_type": "text"
      },
      "cell_type": "markdown",
      "source": [
        "### Train the Model"
      ]
    },
    {
      "metadata": {
        "id": "ZRMd0bgIWXKx",
        "colab_type": "code",
        "colab": {
          "base_uri": "https://localhost:8080/",
          "height": 1414
        },
        "outputId": "eb59b533-a1c0-4ac9-d38f-3f720aca872d"
      },
      "cell_type": "code",
      "source": [
        "checkpointer = ModelCheckpoint(filepath='weights.best.VGG16.hdf5', \n",
        "                               verbose=1, save_best_only=True)\n",
        "\n",
        "VGG16_model.fit(train_VGG16, train_targets, \n",
        "          validation_data=(valid_VGG16, valid_targets),\n",
        "          epochs=20, batch_size=20, callbacks=[checkpointer], verbose=1)"
      ],
      "execution_count": 100,
      "outputs": [
        {
          "output_type": "stream",
          "text": [
            "Train on 6680 samples, validate on 835 samples\n",
            "Epoch 1/20\n",
            "6660/6680 [============================>.] - ETA: 0s - loss: 9.9760 - acc: 0.2667\n",
            "Epoch 00001: val_loss improved from inf to 9.88947, saving model to weights.best.VGG16.hdf5\n",
            "6680/6680 [==============================] - 4s 566us/step - loss: 9.9781 - acc: 0.2668 - val_loss: 9.8895 - val_acc: 0.2683\n",
            "Epoch 2/20\n",
            "6640/6680 [============================>.] - ETA: 0s - loss: 9.2562 - acc: 0.3520\n",
            "Epoch 00002: val_loss improved from 9.88947 to 9.68813, saving model to weights.best.VGG16.hdf5\n",
            "6680/6680 [==============================] - 4s 526us/step - loss: 9.2534 - acc: 0.3522 - val_loss: 9.6881 - val_acc: 0.2898\n",
            "Epoch 3/20\n",
            "6640/6680 [============================>.] - ETA: 0s - loss: 9.0107 - acc: 0.3851\n",
            "Epoch 00003: val_loss improved from 9.68813 to 9.49015, saving model to weights.best.VGG16.hdf5\n",
            "6680/6680 [==============================] - 4s 570us/step - loss: 9.0186 - acc: 0.3847 - val_loss: 9.4902 - val_acc: 0.3126\n",
            "Epoch 4/20\n",
            "6580/6680 [============================>.] - ETA: 0s - loss: 8.8198 - acc: 0.4058\n",
            "Epoch 00004: val_loss improved from 9.49015 to 9.28218, saving model to weights.best.VGG16.hdf5\n",
            "6680/6680 [==============================] - 4s 637us/step - loss: 8.8120 - acc: 0.4055 - val_loss: 9.2822 - val_acc: 0.3269\n",
            "Epoch 5/20\n",
            "6600/6680 [============================>.] - ETA: 0s - loss: 8.5336 - acc: 0.4335\n",
            "Epoch 00005: val_loss improved from 9.28218 to 9.15309, saving model to weights.best.VGG16.hdf5\n",
            "6680/6680 [==============================] - 3s 494us/step - loss: 8.5216 - acc: 0.4344 - val_loss: 9.1531 - val_acc: 0.3401\n",
            "Epoch 6/20\n",
            "6620/6680 [============================>.] - ETA: 0s - loss: 8.3448 - acc: 0.4520\n",
            "Epoch 00006: val_loss improved from 9.15309 to 8.91183, saving model to weights.best.VGG16.hdf5\n",
            "6680/6680 [==============================] - 3s 524us/step - loss: 8.3482 - acc: 0.4516 - val_loss: 8.9118 - val_acc: 0.3593\n",
            "Epoch 7/20\n",
            "6600/6680 [============================>.] - ETA: 0s - loss: 8.0551 - acc: 0.4642\n",
            "Epoch 00007: val_loss improved from 8.91183 to 8.60033, saving model to weights.best.VGG16.hdf5\n",
            "6680/6680 [==============================] - 4s 551us/step - loss: 8.0388 - acc: 0.4648 - val_loss: 8.6003 - val_acc: 0.3593\n",
            "Epoch 8/20\n",
            "6660/6680 [============================>.] - ETA: 0s - loss: 7.7360 - acc: 0.4889\n",
            "Epoch 00008: val_loss improved from 8.60033 to 8.49630, saving model to weights.best.VGG16.hdf5\n",
            "6680/6680 [==============================] - 3s 491us/step - loss: 7.7399 - acc: 0.4886 - val_loss: 8.4963 - val_acc: 0.3772\n",
            "Epoch 9/20\n",
            "6560/6680 [============================>.] - ETA: 0s - loss: 7.6292 - acc: 0.5029\n",
            "Epoch 00009: val_loss did not improve from 8.49630\n",
            "6680/6680 [==============================] - 4s 620us/step - loss: 7.6419 - acc: 0.5025 - val_loss: 8.5027 - val_acc: 0.3832\n",
            "Epoch 10/20\n",
            "6600/6680 [============================>.] - ETA: 0s - loss: 7.5755 - acc: 0.5127\n",
            "Epoch 00010: val_loss did not improve from 8.49630\n",
            "6680/6680 [==============================] - 4s 625us/step - loss: 7.5929 - acc: 0.5115 - val_loss: 8.5156 - val_acc: 0.3952\n",
            "Epoch 11/20\n",
            "6660/6680 [============================>.] - ETA: 0s - loss: 7.5005 - acc: 0.5174\n",
            "Epoch 00011: val_loss improved from 8.49630 to 8.42894, saving model to weights.best.VGG16.hdf5\n",
            "6680/6680 [==============================] - 4s 589us/step - loss: 7.5070 - acc: 0.5171 - val_loss: 8.4289 - val_acc: 0.3880\n",
            "Epoch 12/20\n",
            "6620/6680 [============================>.] - ETA: 0s - loss: 7.3585 - acc: 0.5207\n",
            "Epoch 00012: val_loss improved from 8.42894 to 8.09010, saving model to weights.best.VGG16.hdf5\n",
            "6680/6680 [==============================] - 3s 516us/step - loss: 7.3571 - acc: 0.5207 - val_loss: 8.0901 - val_acc: 0.4036\n",
            "Epoch 13/20\n",
            "6640/6680 [============================>.] - ETA: 0s - loss: 7.1184 - acc: 0.5360\n",
            "Epoch 00013: val_loss improved from 8.09010 to 8.04186, saving model to weights.best.VGG16.hdf5\n",
            "6680/6680 [==============================] - 3s 504us/step - loss: 7.1153 - acc: 0.5362 - val_loss: 8.0419 - val_acc: 0.4120\n",
            "Epoch 14/20\n",
            "6660/6680 [============================>.] - ETA: 0s - loss: 6.9772 - acc: 0.5483\n",
            "Epoch 00014: val_loss improved from 8.04186 to 7.82827, saving model to weights.best.VGG16.hdf5\n",
            "6680/6680 [==============================] - 4s 567us/step - loss: 6.9829 - acc: 0.5481 - val_loss: 7.8283 - val_acc: 0.4156\n",
            "Epoch 15/20\n",
            "6640/6680 [============================>.] - ETA: 0s - loss: 6.7441 - acc: 0.5642\n",
            "Epoch 00015: val_loss improved from 7.82827 to 7.77822, saving model to weights.best.VGG16.hdf5\n",
            "6680/6680 [==============================] - 4s 670us/step - loss: 6.7551 - acc: 0.5633 - val_loss: 7.7782 - val_acc: 0.4240\n",
            "Epoch 16/20\n",
            "6580/6680 [============================>.] - ETA: 0s - loss: 6.6654 - acc: 0.5716\n",
            "Epoch 00016: val_loss improved from 7.77822 to 7.73099, saving model to weights.best.VGG16.hdf5\n",
            "6680/6680 [==============================] - 4s 649us/step - loss: 6.6760 - acc: 0.5707 - val_loss: 7.7310 - val_acc: 0.4299\n",
            "Epoch 17/20\n",
            "6660/6680 [============================>.] - ETA: 0s - loss: 6.4421 - acc: 0.5739\n",
            "Epoch 00017: val_loss improved from 7.73099 to 7.36693, saving model to weights.best.VGG16.hdf5\n",
            "6680/6680 [==============================] - 4s 581us/step - loss: 6.4349 - acc: 0.5744 - val_loss: 7.3669 - val_acc: 0.4467\n",
            "Epoch 18/20\n",
            "6600/6680 [============================>.] - ETA: 0s - loss: 6.1913 - acc: 0.5955\n",
            "Epoch 00018: val_loss improved from 7.36693 to 7.35060, saving model to weights.best.VGG16.hdf5\n",
            "6680/6680 [==============================] - 4s 628us/step - loss: 6.1952 - acc: 0.5952 - val_loss: 7.3506 - val_acc: 0.4443\n",
            "Epoch 19/20\n",
            "6660/6680 [============================>.] - ETA: 0s - loss: 6.0768 - acc: 0.6054\n",
            "Epoch 00019: val_loss improved from 7.35060 to 7.08130, saving model to weights.best.VGG16.hdf5\n",
            "6680/6680 [==============================] - 4s 669us/step - loss: 6.0827 - acc: 0.6051 - val_loss: 7.0813 - val_acc: 0.4647\n",
            "Epoch 20/20\n",
            "6560/6680 [============================>.] - ETA: 0s - loss: 5.9688 - acc: 0.6195\n",
            "Epoch 00020: val_loss did not improve from 7.08130\n",
            "6680/6680 [==============================] - 3s 512us/step - loss: 5.9716 - acc: 0.6192 - val_loss: 7.1349 - val_acc: 0.4659\n"
          ],
          "name": "stdout"
        },
        {
          "output_type": "execute_result",
          "data": {
            "text/plain": [
              "<tensorflow.python.keras.callbacks.History at 0x7fea0ea23588>"
            ]
          },
          "metadata": {
            "tags": []
          },
          "execution_count": 100
        }
      ]
    },
    {
      "metadata": {
        "id": "uQavN95mWXKz",
        "colab_type": "text"
      },
      "cell_type": "markdown",
      "source": [
        "### Load the Model with the Best Validation Loss"
      ]
    },
    {
      "metadata": {
        "id": "RD4CSvdQWXK0",
        "colab_type": "code",
        "colab": {}
      },
      "cell_type": "code",
      "source": [
        "VGG16_model.load_weights('weights.best.VGG16.hdf5')"
      ],
      "execution_count": 0,
      "outputs": []
    },
    {
      "metadata": {
        "id": "gLYEKh6iWXK3",
        "colab_type": "text"
      },
      "cell_type": "markdown",
      "source": [
        "### Test the Model\n",
        "\n",
        "Now, we can use the CNN to test how well it identifies breed within our test dataset of dog images.  We print the test accuracy below."
      ]
    },
    {
      "metadata": {
        "id": "3KhkqPG-WXK4",
        "colab_type": "code",
        "colab": {
          "base_uri": "https://localhost:8080/",
          "height": 34
        },
        "outputId": "2c81eab2-56de-4be7-a2b4-f21084e19626"
      },
      "cell_type": "code",
      "source": [
        "# get index of predicted dog breed for each image in test set\n",
        "VGG16_predictions = [np.argmax(VGG16_model.predict(np.expand_dims(feature, axis=0))) for feature in test_VGG16]\n",
        "\n",
        "# report test accuracy\n",
        "test_accuracy = 100*np.sum(np.array(VGG16_predictions)==np.argmax(test_targets, axis=1))/len(VGG16_predictions)\n",
        "print('Test accuracy: %.4f%%' % test_accuracy)"
      ],
      "execution_count": 103,
      "outputs": [
        {
          "output_type": "stream",
          "text": [
            "Test accuracy: 49.4019%\n"
          ],
          "name": "stdout"
        }
      ]
    },
    {
      "metadata": {
        "id": "x2Q02iIjWXK7",
        "colab_type": "text"
      },
      "cell_type": "markdown",
      "source": [
        "### Predict Dog Breed with the Model"
      ]
    },
    {
      "metadata": {
        "id": "OkPtSELrWXK8",
        "colab_type": "code",
        "colab": {
          "base_uri": "https://localhost:8080/",
          "height": 363
        },
        "outputId": "38ad6c0c-29c7-4223-ac86-6607f0996039"
      },
      "cell_type": "code",
      "source": [
        "from extract_bottleneck_features import *\n",
        "\n",
        "def VGG16_predict_breed(img_path):\n",
        "    # extract bottleneck features\n",
        "    bottleneck_feature = extract_VGG16(path_to_tensor(img_path))\n",
        "    # obtain predicted vector\n",
        "    predicted_vector = VGG16_model.predict(bottleneck_feature)\n",
        "    # return dog breed that is predicted by the model\n",
        "    return dog_names[np.argmax(predicted_vector)]"
      ],
      "execution_count": 104,
      "outputs": [
        {
          "output_type": "error",
          "ename": "ModuleNotFoundError",
          "evalue": "ignored",
          "traceback": [
            "\u001b[0;31m---------------------------------------------------------------------------\u001b[0m",
            "\u001b[0;31mModuleNotFoundError\u001b[0m                       Traceback (most recent call last)",
            "\u001b[0;32m<ipython-input-104-4c46867c46af>\u001b[0m in \u001b[0;36m<module>\u001b[0;34m()\u001b[0m\n\u001b[0;32m----> 1\u001b[0;31m \u001b[0;32mfrom\u001b[0m \u001b[0mextract_bottleneck_features\u001b[0m \u001b[0;32mimport\u001b[0m \u001b[0;34m*\u001b[0m\u001b[0;34m\u001b[0m\u001b[0;34m\u001b[0m\u001b[0m\n\u001b[0m\u001b[1;32m      2\u001b[0m \u001b[0;34m\u001b[0m\u001b[0m\n\u001b[1;32m      3\u001b[0m \u001b[0;32mdef\u001b[0m \u001b[0mVGG16_predict_breed\u001b[0m\u001b[0;34m(\u001b[0m\u001b[0mimg_path\u001b[0m\u001b[0;34m)\u001b[0m\u001b[0;34m:\u001b[0m\u001b[0;34m\u001b[0m\u001b[0;34m\u001b[0m\u001b[0m\n\u001b[1;32m      4\u001b[0m     \u001b[0;31m# extract bottleneck features\u001b[0m\u001b[0;34m\u001b[0m\u001b[0;34m\u001b[0m\u001b[0;34m\u001b[0m\u001b[0m\n\u001b[1;32m      5\u001b[0m     \u001b[0mbottleneck_feature\u001b[0m \u001b[0;34m=\u001b[0m \u001b[0mextract_VGG16\u001b[0m\u001b[0;34m(\u001b[0m\u001b[0mpath_to_tensor\u001b[0m\u001b[0;34m(\u001b[0m\u001b[0mimg_path\u001b[0m\u001b[0;34m)\u001b[0m\u001b[0;34m)\u001b[0m\u001b[0;34m\u001b[0m\u001b[0;34m\u001b[0m\u001b[0m\n",
            "\u001b[0;31mModuleNotFoundError\u001b[0m: No module named 'extract_bottleneck_features'",
            "",
            "\u001b[0;31m---------------------------------------------------------------------------\u001b[0;32m\nNOTE: If your import is failing due to a missing package, you can\nmanually install dependencies using either !pip or !apt.\n\nTo view examples of installing some common dependencies, click the\n\"Open Examples\" button below.\n\u001b[0;31m---------------------------------------------------------------------------\u001b[0m\n"
          ]
        }
      ]
    },
    {
      "metadata": {
        "id": "-QSxRfyrWXK_",
        "colab_type": "text"
      },
      "cell_type": "markdown",
      "source": [
        "---\n",
        "<a id='step5'></a>\n",
        "## Step 5: Create a CNN to Classify Dog Breeds (using Transfer Learning)\n",
        "\n",
        "You will now use transfer learning to create a CNN that can identify dog breed from images.  Your CNN must attain at least 60% accuracy on the test set.\n",
        "\n",
        "In Step 4, we used transfer learning to create a CNN using VGG-16 bottleneck features.  In this section, you must use the bottleneck features from a different pre-trained model.  To make things easier for you, we have pre-computed the features for all of the networks that are currently available in Keras:\n",
        "- [VGG-19](https://s3-us-west-1.amazonaws.com/udacity-aind/dog-project/DogVGG19Data.npz) bottleneck features\n",
        "- [ResNet-50](https://s3-us-west-1.amazonaws.com/udacity-aind/dog-project/DogResnet50Data.npz) bottleneck features\n",
        "- [Inception](https://s3-us-west-1.amazonaws.com/udacity-aind/dog-project/DogInceptionV3Data.npz) bottleneck features\n",
        "- [Xception](https://s3-us-west-1.amazonaws.com/udacity-aind/dog-project/DogXceptionData.npz) bottleneck features\n",
        "\n",
        "The files are encoded as such:\n",
        "\n",
        "    Dog{network}Data.npz\n",
        "    \n",
        "where `{network}`, in the above filename, can be one of `VGG19`, `Resnet50`, `InceptionV3`, or `Xception`.  Pick one of the above architectures, download the corresponding bottleneck features, and store the downloaded file in the `bottleneck_features/` folder in the repository.\n",
        "\n",
        "### (IMPLEMENTATION) Obtain Bottleneck Features\n",
        "\n",
        "In the code block below, extract the bottleneck features corresponding to the train, test, and validation sets by running the following:\n",
        "\n",
        "    bottleneck_features = np.load('bottleneck_features/Dog{network}Data.npz')\n",
        "    train_{network} = bottleneck_features['train']\n",
        "    valid_{network} = bottleneck_features['valid']\n",
        "    test_{network} = bottleneck_features['test']"
      ]
    },
    {
      "metadata": {
        "id": "aNNm7WfRWXLB",
        "colab_type": "code",
        "colab": {}
      },
      "cell_type": "code",
      "source": [
        "### TODO: Obtain bottleneck features from another pre-trained CNN."
      ],
      "execution_count": 0,
      "outputs": []
    },
    {
      "metadata": {
        "id": "JQUywwqvWXLD",
        "colab_type": "text"
      },
      "cell_type": "markdown",
      "source": [
        "### (IMPLEMENTATION) Model Architecture\n",
        "\n",
        "Create a CNN to classify dog breed.  At the end of your code cell block, summarize the layers of your model by executing the line:\n",
        "    \n",
        "        <your model's name>.summary()\n",
        "   \n",
        "__Question 5:__ Outline the steps you took to get to your final CNN architecture and your reasoning at each step.  Describe why you think the architecture is suitable for the current problem.\n",
        "\n",
        "__Answer:__ \n",
        "\n"
      ]
    },
    {
      "metadata": {
        "id": "DEelnVymWXLD",
        "colab_type": "code",
        "colab": {}
      },
      "cell_type": "code",
      "source": [
        "### TODO: Define your architecture."
      ],
      "execution_count": 0,
      "outputs": []
    },
    {
      "metadata": {
        "id": "jztm29jwWXLF",
        "colab_type": "text"
      },
      "cell_type": "markdown",
      "source": [
        "### (IMPLEMENTATION) Compile the Model"
      ]
    },
    {
      "metadata": {
        "id": "uZWTaXrvWXLG",
        "colab_type": "code",
        "colab": {}
      },
      "cell_type": "code",
      "source": [
        "### TODO: Compile the model."
      ],
      "execution_count": 0,
      "outputs": []
    },
    {
      "metadata": {
        "id": "Ctx6oKjgWXLJ",
        "colab_type": "text"
      },
      "cell_type": "markdown",
      "source": [
        "### (IMPLEMENTATION) Train the Model\n",
        "\n",
        "Train your model in the code cell below.  Use model checkpointing to save the model that attains the best validation loss.  \n",
        "\n",
        "You are welcome to [augment the training data](https://blog.keras.io/building-powerful-image-classification-models-using-very-little-data.html), but this is not a requirement. "
      ]
    },
    {
      "metadata": {
        "id": "YDNdp5gtWXLK",
        "colab_type": "code",
        "colab": {}
      },
      "cell_type": "code",
      "source": [
        "### TODO: Train the model."
      ],
      "execution_count": 0,
      "outputs": []
    },
    {
      "metadata": {
        "id": "1puPNeqeWXLP",
        "colab_type": "text"
      },
      "cell_type": "markdown",
      "source": [
        "### (IMPLEMENTATION) Load the Model with the Best Validation Loss"
      ]
    },
    {
      "metadata": {
        "id": "l1sdijA6WXLQ",
        "colab_type": "code",
        "colab": {}
      },
      "cell_type": "code",
      "source": [
        "### TODO: Load the model weights with the best validation loss."
      ],
      "execution_count": 0,
      "outputs": []
    },
    {
      "metadata": {
        "id": "lbvNQT4pWXLX",
        "colab_type": "text"
      },
      "cell_type": "markdown",
      "source": [
        "### (IMPLEMENTATION) Test the Model\n",
        "\n",
        "Try out your model on the test dataset of dog images. Ensure that your test accuracy is greater than 60%."
      ]
    },
    {
      "metadata": {
        "id": "pvvnf18CWXLY",
        "colab_type": "code",
        "colab": {}
      },
      "cell_type": "code",
      "source": [
        "### TODO: Calculate classification accuracy on the test dataset."
      ],
      "execution_count": 0,
      "outputs": []
    },
    {
      "metadata": {
        "id": "_EhzJQwhWXLc",
        "colab_type": "text"
      },
      "cell_type": "markdown",
      "source": [
        "### (IMPLEMENTATION) Predict Dog Breed with the Model\n",
        "\n",
        "Write a function that takes an image path as input and returns the dog breed (`Affenpinscher`, `Afghan_hound`, etc) that is predicted by your model.  \n",
        "\n",
        "Similar to the analogous function in Step 5, your function should have three steps:\n",
        "1. Extract the bottleneck features corresponding to the chosen CNN model.\n",
        "2. Supply the bottleneck features as input to the model to return the predicted vector.  Note that the argmax of this prediction vector gives the index of the predicted dog breed.\n",
        "3. Use the `dog_names` array defined in Step 0 of this notebook to return the corresponding breed.\n",
        "\n",
        "The functions to extract the bottleneck features can be found in `extract_bottleneck_features.py`, and they have been imported in an earlier code cell.  To obtain the bottleneck features corresponding to your chosen CNN architecture, you need to use the function\n",
        "\n",
        "    extract_{network}\n",
        "    \n",
        "where `{network}`, in the above filename, should be one of `VGG19`, `Resnet50`, `InceptionV3`, or `Xception`."
      ]
    },
    {
      "metadata": {
        "id": "GAqTjTvPWXLd",
        "colab_type": "code",
        "colab": {}
      },
      "cell_type": "code",
      "source": [
        "### TODO: Write a function that takes a path to an image as input\n",
        "### and returns the dog breed that is predicted by the model."
      ],
      "execution_count": 0,
      "outputs": []
    },
    {
      "metadata": {
        "id": "QVo73WeMWXLg",
        "colab_type": "text"
      },
      "cell_type": "markdown",
      "source": [
        "---\n",
        "<a id='step6'></a>\n",
        "## Step 6: Write your Algorithm\n",
        "\n",
        "Write an algorithm that accepts a file path to an image and first determines whether the image contains a human, dog, or neither.  Then,\n",
        "- if a __dog__ is detected in the image, return the predicted breed.\n",
        "- if a __human__ is detected in the image, return the resembling dog breed.\n",
        "- if __neither__ is detected in the image, provide output that indicates an error.\n",
        "\n",
        "You are welcome to write your own functions for detecting humans and dogs in images, but feel free to use the `face_detector` and `dog_detector` functions developed above.  You are __required__ to use your CNN from Step 5 to predict dog breed.  \n",
        "\n",
        "Some sample output for our algorithm is provided below, but feel free to design your own user experience!\n",
        "\n",
        "![Sample Human Output](https://github.com/udacity/dog-project/blob/master/images/sample_human_output.png?raw=1)\n",
        "\n",
        "\n",
        "### (IMPLEMENTATION) Write your Algorithm"
      ]
    },
    {
      "metadata": {
        "id": "rUbw_n4rWXLg",
        "colab_type": "code",
        "colab": {}
      },
      "cell_type": "code",
      "source": [
        "### TODO: Write your algorithm.\n",
        "### Feel free to use as many code cells as needed."
      ],
      "execution_count": 0,
      "outputs": []
    },
    {
      "metadata": {
        "id": "XX2AI2L_WXLk",
        "colab_type": "text"
      },
      "cell_type": "markdown",
      "source": [
        "---\n",
        "<a id='step7'></a>\n",
        "## Step 7: Test Your Algorithm\n",
        "\n",
        "In this section, you will take your new algorithm for a spin!  What kind of dog does the algorithm think that __you__ look like?  If you have a dog, does it predict your dog's breed accurately?  If you have a cat, does it mistakenly think that your cat is a dog?\n",
        "\n",
        "### (IMPLEMENTATION) Test Your Algorithm on Sample Images!\n",
        "\n",
        "Test your algorithm at least six images on your computer.  Feel free to use any images you like.  Use at least two human and two dog images.  \n",
        "\n",
        "__Question 6:__ Is the output better than you expected :) ?  Or worse :( ?  Provide at least three possible points of improvement for your algorithm.\n",
        "\n",
        "__Answer:__ "
      ]
    },
    {
      "metadata": {
        "id": "mzVOKGA9WXLk",
        "colab_type": "code",
        "colab": {}
      },
      "cell_type": "code",
      "source": [
        "## TODO: Execute your algorithm from Step 6 on\n",
        "## at least 6 images on your computer.\n",
        "## Feel free to use as many code cells as needed."
      ],
      "execution_count": 0,
      "outputs": []
    }
  ]
}